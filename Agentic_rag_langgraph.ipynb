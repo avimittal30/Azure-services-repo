{
  "nbformat": 4,
  "nbformat_minor": 0,
  "metadata": {
    "colab": {
      "provenance": [],
      "mount_file_id": "1P4G9N7RzwV2j35O9LgVRs9XOefkg43yi",
      "authorship_tag": "ABX9TyNo85P1whGVQ384WPmQoS0l",
      "include_colab_link": true
    },
    "kernelspec": {
      "name": "python3",
      "display_name": "Python 3"
    },
    "language_info": {
      "name": "python"
    }
  },
  "cells": [
    {
      "cell_type": "markdown",
      "metadata": {
        "id": "view-in-github",
        "colab_type": "text"
      },
      "source": [
        "<a href=\"https://colab.research.google.com/github/avimittal30/Azure-services-repo/blob/main/Agentic_rag_langgraph.ipynb\" target=\"_parent\"><img src=\"https://colab.research.google.com/assets/colab-badge.svg\" alt=\"Open In Colab\"/></a>"
      ]
    },
    {
      "cell_type": "code",
      "execution_count": 47,
      "metadata": {
        "colab": {
          "base_uri": "https://localhost:8080/"
        },
        "id": "8i8SC2ECvIN5",
        "outputId": "acdfc5bf-7895-4568-a3f3-a677c83c0d3c"
      },
      "outputs": [
        {
          "output_type": "stream",
          "name": "stdout",
          "text": [
            "Requirement already satisfied: langchain in /usr/local/lib/python3.10/dist-packages (0.3.13)\n",
            "Requirement already satisfied: PyYAML>=5.3 in /usr/local/lib/python3.10/dist-packages (from langchain) (6.0.2)\n",
            "Requirement already satisfied: SQLAlchemy<3,>=1.4 in /usr/local/lib/python3.10/dist-packages (from langchain) (2.0.36)\n",
            "Requirement already satisfied: aiohttp<4.0.0,>=3.8.3 in /usr/local/lib/python3.10/dist-packages (from langchain) (3.11.10)\n",
            "Requirement already satisfied: async-timeout<5.0.0,>=4.0.0 in /usr/local/lib/python3.10/dist-packages (from langchain) (4.0.3)\n",
            "Requirement already satisfied: langchain-core<0.4.0,>=0.3.26 in /usr/local/lib/python3.10/dist-packages (from langchain) (0.3.28)\n",
            "Requirement already satisfied: langchain-text-splitters<0.4.0,>=0.3.3 in /usr/local/lib/python3.10/dist-packages (from langchain) (0.3.3)\n",
            "Requirement already satisfied: langsmith<0.3,>=0.1.17 in /usr/local/lib/python3.10/dist-packages (from langchain) (0.2.3)\n",
            "Requirement already satisfied: numpy<2,>=1.22.4 in /usr/local/lib/python3.10/dist-packages (from langchain) (1.26.4)\n",
            "Requirement already satisfied: pydantic<3.0.0,>=2.7.4 in /usr/local/lib/python3.10/dist-packages (from langchain) (2.10.3)\n",
            "Requirement already satisfied: requests<3,>=2 in /usr/local/lib/python3.10/dist-packages (from langchain) (2.32.3)\n",
            "Requirement already satisfied: tenacity!=8.4.0,<10,>=8.1.0 in /usr/local/lib/python3.10/dist-packages (from langchain) (9.0.0)\n",
            "Requirement already satisfied: aiohappyeyeballs>=2.3.0 in /usr/local/lib/python3.10/dist-packages (from aiohttp<4.0.0,>=3.8.3->langchain) (2.4.4)\n",
            "Requirement already satisfied: aiosignal>=1.1.2 in /usr/local/lib/python3.10/dist-packages (from aiohttp<4.0.0,>=3.8.3->langchain) (1.3.2)\n",
            "Requirement already satisfied: attrs>=17.3.0 in /usr/local/lib/python3.10/dist-packages (from aiohttp<4.0.0,>=3.8.3->langchain) (24.3.0)\n",
            "Requirement already satisfied: frozenlist>=1.1.1 in /usr/local/lib/python3.10/dist-packages (from aiohttp<4.0.0,>=3.8.3->langchain) (1.5.0)\n",
            "Requirement already satisfied: multidict<7.0,>=4.5 in /usr/local/lib/python3.10/dist-packages (from aiohttp<4.0.0,>=3.8.3->langchain) (6.1.0)\n",
            "Requirement already satisfied: propcache>=0.2.0 in /usr/local/lib/python3.10/dist-packages (from aiohttp<4.0.0,>=3.8.3->langchain) (0.2.1)\n",
            "Requirement already satisfied: yarl<2.0,>=1.17.0 in /usr/local/lib/python3.10/dist-packages (from aiohttp<4.0.0,>=3.8.3->langchain) (1.18.3)\n",
            "Requirement already satisfied: jsonpatch<2.0,>=1.33 in /usr/local/lib/python3.10/dist-packages (from langchain-core<0.4.0,>=0.3.26->langchain) (1.33)\n",
            "Requirement already satisfied: packaging<25,>=23.2 in /usr/local/lib/python3.10/dist-packages (from langchain-core<0.4.0,>=0.3.26->langchain) (24.2)\n",
            "Requirement already satisfied: typing-extensions>=4.7 in /usr/local/lib/python3.10/dist-packages (from langchain-core<0.4.0,>=0.3.26->langchain) (4.12.2)\n",
            "Requirement already satisfied: httpx<1,>=0.23.0 in /usr/local/lib/python3.10/dist-packages (from langsmith<0.3,>=0.1.17->langchain) (0.27.2)\n",
            "Requirement already satisfied: orjson<4.0.0,>=3.9.14 in /usr/local/lib/python3.10/dist-packages (from langsmith<0.3,>=0.1.17->langchain) (3.10.12)\n",
            "Requirement already satisfied: requests-toolbelt<2.0.0,>=1.0.0 in /usr/local/lib/python3.10/dist-packages (from langsmith<0.3,>=0.1.17->langchain) (1.0.0)\n",
            "Requirement already satisfied: annotated-types>=0.6.0 in /usr/local/lib/python3.10/dist-packages (from pydantic<3.0.0,>=2.7.4->langchain) (0.7.0)\n",
            "Requirement already satisfied: pydantic-core==2.27.1 in /usr/local/lib/python3.10/dist-packages (from pydantic<3.0.0,>=2.7.4->langchain) (2.27.1)\n",
            "Requirement already satisfied: charset-normalizer<4,>=2 in /usr/local/lib/python3.10/dist-packages (from requests<3,>=2->langchain) (3.4.0)\n",
            "Requirement already satisfied: idna<4,>=2.5 in /usr/local/lib/python3.10/dist-packages (from requests<3,>=2->langchain) (3.10)\n",
            "Requirement already satisfied: urllib3<3,>=1.21.1 in /usr/local/lib/python3.10/dist-packages (from requests<3,>=2->langchain) (2.2.3)\n",
            "Requirement already satisfied: certifi>=2017.4.17 in /usr/local/lib/python3.10/dist-packages (from requests<3,>=2->langchain) (2024.12.14)\n",
            "Requirement already satisfied: greenlet!=0.4.17 in /usr/local/lib/python3.10/dist-packages (from SQLAlchemy<3,>=1.4->langchain) (3.1.1)\n",
            "Requirement already satisfied: anyio in /usr/local/lib/python3.10/dist-packages (from httpx<1,>=0.23.0->langsmith<0.3,>=0.1.17->langchain) (3.7.1)\n",
            "Requirement already satisfied: httpcore==1.* in /usr/local/lib/python3.10/dist-packages (from httpx<1,>=0.23.0->langsmith<0.3,>=0.1.17->langchain) (1.0.7)\n",
            "Requirement already satisfied: sniffio in /usr/local/lib/python3.10/dist-packages (from httpx<1,>=0.23.0->langsmith<0.3,>=0.1.17->langchain) (1.3.1)\n",
            "Requirement already satisfied: h11<0.15,>=0.13 in /usr/local/lib/python3.10/dist-packages (from httpcore==1.*->httpx<1,>=0.23.0->langsmith<0.3,>=0.1.17->langchain) (0.14.0)\n",
            "Requirement already satisfied: jsonpointer>=1.9 in /usr/local/lib/python3.10/dist-packages (from jsonpatch<2.0,>=1.33->langchain-core<0.4.0,>=0.3.26->langchain) (3.0.0)\n",
            "Requirement already satisfied: exceptiongroup in /usr/local/lib/python3.10/dist-packages (from anyio->httpx<1,>=0.23.0->langsmith<0.3,>=0.1.17->langchain) (1.2.2)\n",
            "Requirement already satisfied: langchain-openai in /usr/local/lib/python3.10/dist-packages (0.2.14)\n",
            "Requirement already satisfied: langchain-core<0.4.0,>=0.3.27 in /usr/local/lib/python3.10/dist-packages (from langchain-openai) (0.3.28)\n",
            "Collecting openai<2.0.0,>=1.58.1 (from langchain-openai)\n",
            "  Using cached openai-1.58.1-py3-none-any.whl.metadata (27 kB)\n",
            "Requirement already satisfied: tiktoken<1,>=0.7 in /usr/local/lib/python3.10/dist-packages (from langchain-openai) (0.8.0)\n",
            "Requirement already satisfied: PyYAML>=5.3 in /usr/local/lib/python3.10/dist-packages (from langchain-core<0.4.0,>=0.3.27->langchain-openai) (6.0.2)\n",
            "Requirement already satisfied: jsonpatch<2.0,>=1.33 in /usr/local/lib/python3.10/dist-packages (from langchain-core<0.4.0,>=0.3.27->langchain-openai) (1.33)\n",
            "Requirement already satisfied: langsmith<0.3,>=0.1.125 in /usr/local/lib/python3.10/dist-packages (from langchain-core<0.4.0,>=0.3.27->langchain-openai) (0.2.3)\n",
            "Requirement already satisfied: packaging<25,>=23.2 in /usr/local/lib/python3.10/dist-packages (from langchain-core<0.4.0,>=0.3.27->langchain-openai) (24.2)\n",
            "Requirement already satisfied: pydantic<3.0.0,>=2.5.2 in /usr/local/lib/python3.10/dist-packages (from langchain-core<0.4.0,>=0.3.27->langchain-openai) (2.10.3)\n",
            "Requirement already satisfied: tenacity!=8.4.0,<10.0.0,>=8.1.0 in /usr/local/lib/python3.10/dist-packages (from langchain-core<0.4.0,>=0.3.27->langchain-openai) (9.0.0)\n",
            "Requirement already satisfied: typing-extensions>=4.7 in /usr/local/lib/python3.10/dist-packages (from langchain-core<0.4.0,>=0.3.27->langchain-openai) (4.12.2)\n",
            "Requirement already satisfied: anyio<5,>=3.5.0 in /usr/local/lib/python3.10/dist-packages (from openai<2.0.0,>=1.58.1->langchain-openai) (3.7.1)\n",
            "Requirement already satisfied: distro<2,>=1.7.0 in /usr/local/lib/python3.10/dist-packages (from openai<2.0.0,>=1.58.1->langchain-openai) (1.9.0)\n",
            "Requirement already satisfied: httpx<1,>=0.23.0 in /usr/local/lib/python3.10/dist-packages (from openai<2.0.0,>=1.58.1->langchain-openai) (0.27.2)\n",
            "Requirement already satisfied: jiter<1,>=0.4.0 in /usr/local/lib/python3.10/dist-packages (from openai<2.0.0,>=1.58.1->langchain-openai) (0.8.2)\n",
            "Requirement already satisfied: sniffio in /usr/local/lib/python3.10/dist-packages (from openai<2.0.0,>=1.58.1->langchain-openai) (1.3.1)\n",
            "Requirement already satisfied: tqdm>4 in /usr/local/lib/python3.10/dist-packages (from openai<2.0.0,>=1.58.1->langchain-openai) (4.67.1)\n",
            "Requirement already satisfied: regex>=2022.1.18 in /usr/local/lib/python3.10/dist-packages (from tiktoken<1,>=0.7->langchain-openai) (2024.11.6)\n",
            "Requirement already satisfied: requests>=2.26.0 in /usr/local/lib/python3.10/dist-packages (from tiktoken<1,>=0.7->langchain-openai) (2.32.3)\n",
            "Requirement already satisfied: idna>=2.8 in /usr/local/lib/python3.10/dist-packages (from anyio<5,>=3.5.0->openai<2.0.0,>=1.58.1->langchain-openai) (3.10)\n",
            "Requirement already satisfied: exceptiongroup in /usr/local/lib/python3.10/dist-packages (from anyio<5,>=3.5.0->openai<2.0.0,>=1.58.1->langchain-openai) (1.2.2)\n",
            "Requirement already satisfied: certifi in /usr/local/lib/python3.10/dist-packages (from httpx<1,>=0.23.0->openai<2.0.0,>=1.58.1->langchain-openai) (2024.12.14)\n",
            "Requirement already satisfied: httpcore==1.* in /usr/local/lib/python3.10/dist-packages (from httpx<1,>=0.23.0->openai<2.0.0,>=1.58.1->langchain-openai) (1.0.7)\n",
            "Requirement already satisfied: h11<0.15,>=0.13 in /usr/local/lib/python3.10/dist-packages (from httpcore==1.*->httpx<1,>=0.23.0->openai<2.0.0,>=1.58.1->langchain-openai) (0.14.0)\n",
            "Requirement already satisfied: jsonpointer>=1.9 in /usr/local/lib/python3.10/dist-packages (from jsonpatch<2.0,>=1.33->langchain-core<0.4.0,>=0.3.27->langchain-openai) (3.0.0)\n",
            "Requirement already satisfied: orjson<4.0.0,>=3.9.14 in /usr/local/lib/python3.10/dist-packages (from langsmith<0.3,>=0.1.125->langchain-core<0.4.0,>=0.3.27->langchain-openai) (3.10.12)\n",
            "Requirement already satisfied: requests-toolbelt<2.0.0,>=1.0.0 in /usr/local/lib/python3.10/dist-packages (from langsmith<0.3,>=0.1.125->langchain-core<0.4.0,>=0.3.27->langchain-openai) (1.0.0)\n",
            "Requirement already satisfied: annotated-types>=0.6.0 in /usr/local/lib/python3.10/dist-packages (from pydantic<3.0.0,>=2.5.2->langchain-core<0.4.0,>=0.3.27->langchain-openai) (0.7.0)\n",
            "Requirement already satisfied: pydantic-core==2.27.1 in /usr/local/lib/python3.10/dist-packages (from pydantic<3.0.0,>=2.5.2->langchain-core<0.4.0,>=0.3.27->langchain-openai) (2.27.1)\n",
            "Requirement already satisfied: charset-normalizer<4,>=2 in /usr/local/lib/python3.10/dist-packages (from requests>=2.26.0->tiktoken<1,>=0.7->langchain-openai) (3.4.0)\n",
            "Requirement already satisfied: urllib3<3,>=1.21.1 in /usr/local/lib/python3.10/dist-packages (from requests>=2.26.0->tiktoken<1,>=0.7->langchain-openai) (2.2.3)\n",
            "Using cached openai-1.58.1-py3-none-any.whl (454 kB)\n",
            "Installing collected packages: openai\n",
            "  Attempting uninstall: openai\n",
            "    Found existing installation: openai 1.55.3\n",
            "    Uninstalling openai-1.55.3:\n",
            "      Successfully uninstalled openai-1.55.3\n",
            "Successfully installed openai-1.58.1\n",
            "Requirement already satisfied: langchain-community in /usr/local/lib/python3.10/dist-packages (0.3.13)\n",
            "Requirement already satisfied: PyYAML>=5.3 in /usr/local/lib/python3.10/dist-packages (from langchain-community) (6.0.2)\n",
            "Requirement already satisfied: SQLAlchemy<3,>=1.4 in /usr/local/lib/python3.10/dist-packages (from langchain-community) (2.0.36)\n",
            "Requirement already satisfied: aiohttp<4.0.0,>=3.8.3 in /usr/local/lib/python3.10/dist-packages (from langchain-community) (3.11.10)\n",
            "Requirement already satisfied: dataclasses-json<0.7,>=0.5.7 in /usr/local/lib/python3.10/dist-packages (from langchain-community) (0.6.7)\n",
            "Requirement already satisfied: httpx-sse<0.5.0,>=0.4.0 in /usr/local/lib/python3.10/dist-packages (from langchain-community) (0.4.0)\n",
            "Requirement already satisfied: langchain<0.4.0,>=0.3.13 in /usr/local/lib/python3.10/dist-packages (from langchain-community) (0.3.13)\n",
            "Requirement already satisfied: langchain-core<0.4.0,>=0.3.27 in /usr/local/lib/python3.10/dist-packages (from langchain-community) (0.3.28)\n",
            "Requirement already satisfied: langsmith<0.3,>=0.1.125 in /usr/local/lib/python3.10/dist-packages (from langchain-community) (0.2.3)\n",
            "Requirement already satisfied: numpy<2,>=1.22.4 in /usr/local/lib/python3.10/dist-packages (from langchain-community) (1.26.4)\n",
            "Requirement already satisfied: pydantic-settings<3.0.0,>=2.4.0 in /usr/local/lib/python3.10/dist-packages (from langchain-community) (2.7.0)\n",
            "Requirement already satisfied: requests<3,>=2 in /usr/local/lib/python3.10/dist-packages (from langchain-community) (2.32.3)\n",
            "Requirement already satisfied: tenacity!=8.4.0,<10,>=8.1.0 in /usr/local/lib/python3.10/dist-packages (from langchain-community) (9.0.0)\n",
            "Requirement already satisfied: aiohappyeyeballs>=2.3.0 in /usr/local/lib/python3.10/dist-packages (from aiohttp<4.0.0,>=3.8.3->langchain-community) (2.4.4)\n",
            "Requirement already satisfied: aiosignal>=1.1.2 in /usr/local/lib/python3.10/dist-packages (from aiohttp<4.0.0,>=3.8.3->langchain-community) (1.3.2)\n",
            "Requirement already satisfied: async-timeout<6.0,>=4.0 in /usr/local/lib/python3.10/dist-packages (from aiohttp<4.0.0,>=3.8.3->langchain-community) (4.0.3)\n",
            "Requirement already satisfied: attrs>=17.3.0 in /usr/local/lib/python3.10/dist-packages (from aiohttp<4.0.0,>=3.8.3->langchain-community) (24.3.0)\n",
            "Requirement already satisfied: frozenlist>=1.1.1 in /usr/local/lib/python3.10/dist-packages (from aiohttp<4.0.0,>=3.8.3->langchain-community) (1.5.0)\n",
            "Requirement already satisfied: multidict<7.0,>=4.5 in /usr/local/lib/python3.10/dist-packages (from aiohttp<4.0.0,>=3.8.3->langchain-community) (6.1.0)\n",
            "Requirement already satisfied: propcache>=0.2.0 in /usr/local/lib/python3.10/dist-packages (from aiohttp<4.0.0,>=3.8.3->langchain-community) (0.2.1)\n",
            "Requirement already satisfied: yarl<2.0,>=1.17.0 in /usr/local/lib/python3.10/dist-packages (from aiohttp<4.0.0,>=3.8.3->langchain-community) (1.18.3)\n",
            "Requirement already satisfied: marshmallow<4.0.0,>=3.18.0 in /usr/local/lib/python3.10/dist-packages (from dataclasses-json<0.7,>=0.5.7->langchain-community) (3.23.2)\n",
            "Requirement already satisfied: typing-inspect<1,>=0.4.0 in /usr/local/lib/python3.10/dist-packages (from dataclasses-json<0.7,>=0.5.7->langchain-community) (0.9.0)\n",
            "Requirement already satisfied: langchain-text-splitters<0.4.0,>=0.3.3 in /usr/local/lib/python3.10/dist-packages (from langchain<0.4.0,>=0.3.13->langchain-community) (0.3.3)\n",
            "Requirement already satisfied: pydantic<3.0.0,>=2.7.4 in /usr/local/lib/python3.10/dist-packages (from langchain<0.4.0,>=0.3.13->langchain-community) (2.10.3)\n",
            "Requirement already satisfied: jsonpatch<2.0,>=1.33 in /usr/local/lib/python3.10/dist-packages (from langchain-core<0.4.0,>=0.3.27->langchain-community) (1.33)\n",
            "Requirement already satisfied: packaging<25,>=23.2 in /usr/local/lib/python3.10/dist-packages (from langchain-core<0.4.0,>=0.3.27->langchain-community) (24.2)\n",
            "Requirement already satisfied: typing-extensions>=4.7 in /usr/local/lib/python3.10/dist-packages (from langchain-core<0.4.0,>=0.3.27->langchain-community) (4.12.2)\n",
            "Requirement already satisfied: httpx<1,>=0.23.0 in /usr/local/lib/python3.10/dist-packages (from langsmith<0.3,>=0.1.125->langchain-community) (0.27.2)\n",
            "Requirement already satisfied: orjson<4.0.0,>=3.9.14 in /usr/local/lib/python3.10/dist-packages (from langsmith<0.3,>=0.1.125->langchain-community) (3.10.12)\n",
            "Requirement already satisfied: requests-toolbelt<2.0.0,>=1.0.0 in /usr/local/lib/python3.10/dist-packages (from langsmith<0.3,>=0.1.125->langchain-community) (1.0.0)\n",
            "Requirement already satisfied: python-dotenv>=0.21.0 in /usr/local/lib/python3.10/dist-packages (from pydantic-settings<3.0.0,>=2.4.0->langchain-community) (1.0.1)\n",
            "Requirement already satisfied: charset-normalizer<4,>=2 in /usr/local/lib/python3.10/dist-packages (from requests<3,>=2->langchain-community) (3.4.0)\n",
            "Requirement already satisfied: idna<4,>=2.5 in /usr/local/lib/python3.10/dist-packages (from requests<3,>=2->langchain-community) (3.10)\n",
            "Requirement already satisfied: urllib3<3,>=1.21.1 in /usr/local/lib/python3.10/dist-packages (from requests<3,>=2->langchain-community) (2.2.3)\n",
            "Requirement already satisfied: certifi>=2017.4.17 in /usr/local/lib/python3.10/dist-packages (from requests<3,>=2->langchain-community) (2024.12.14)\n",
            "Requirement already satisfied: greenlet!=0.4.17 in /usr/local/lib/python3.10/dist-packages (from SQLAlchemy<3,>=1.4->langchain-community) (3.1.1)\n",
            "Requirement already satisfied: anyio in /usr/local/lib/python3.10/dist-packages (from httpx<1,>=0.23.0->langsmith<0.3,>=0.1.125->langchain-community) (3.7.1)\n",
            "Requirement already satisfied: httpcore==1.* in /usr/local/lib/python3.10/dist-packages (from httpx<1,>=0.23.0->langsmith<0.3,>=0.1.125->langchain-community) (1.0.7)\n",
            "Requirement already satisfied: sniffio in /usr/local/lib/python3.10/dist-packages (from httpx<1,>=0.23.0->langsmith<0.3,>=0.1.125->langchain-community) (1.3.1)\n",
            "Requirement already satisfied: h11<0.15,>=0.13 in /usr/local/lib/python3.10/dist-packages (from httpcore==1.*->httpx<1,>=0.23.0->langsmith<0.3,>=0.1.125->langchain-community) (0.14.0)\n",
            "Requirement already satisfied: jsonpointer>=1.9 in /usr/local/lib/python3.10/dist-packages (from jsonpatch<2.0,>=1.33->langchain-core<0.4.0,>=0.3.27->langchain-community) (3.0.0)\n",
            "Requirement already satisfied: annotated-types>=0.6.0 in /usr/local/lib/python3.10/dist-packages (from pydantic<3.0.0,>=2.7.4->langchain<0.4.0,>=0.3.13->langchain-community) (0.7.0)\n",
            "Requirement already satisfied: pydantic-core==2.27.1 in /usr/local/lib/python3.10/dist-packages (from pydantic<3.0.0,>=2.7.4->langchain<0.4.0,>=0.3.13->langchain-community) (2.27.1)\n",
            "Requirement already satisfied: mypy-extensions>=0.3.0 in /usr/local/lib/python3.10/dist-packages (from typing-inspect<1,>=0.4.0->dataclasses-json<0.7,>=0.5.7->langchain-community) (1.0.0)\n",
            "Requirement already satisfied: exceptiongroup in /usr/local/lib/python3.10/dist-packages (from anyio->httpx<1,>=0.23.0->langsmith<0.3,>=0.1.125->langchain-community) (1.2.2)\n",
            "Requirement already satisfied: langgraph in /usr/local/lib/python3.10/dist-packages (0.2.60)\n",
            "Requirement already satisfied: langchain-core!=0.3.0,!=0.3.1,!=0.3.10,!=0.3.11,!=0.3.12,!=0.3.13,!=0.3.14,!=0.3.15,!=0.3.16,!=0.3.17,!=0.3.18,!=0.3.19,!=0.3.2,!=0.3.20,!=0.3.21,!=0.3.22,!=0.3.3,!=0.3.4,!=0.3.5,!=0.3.6,!=0.3.7,!=0.3.8,!=0.3.9,<0.4.0,>=0.2.43 in /usr/local/lib/python3.10/dist-packages (from langgraph) (0.3.28)\n",
            "Requirement already satisfied: langgraph-checkpoint<3.0.0,>=2.0.4 in /usr/local/lib/python3.10/dist-packages (from langgraph) (2.0.9)\n",
            "Requirement already satisfied: langgraph-sdk<0.2.0,>=0.1.42 in /usr/local/lib/python3.10/dist-packages (from langgraph) (0.1.48)\n",
            "Requirement already satisfied: PyYAML>=5.3 in /usr/local/lib/python3.10/dist-packages (from langchain-core!=0.3.0,!=0.3.1,!=0.3.10,!=0.3.11,!=0.3.12,!=0.3.13,!=0.3.14,!=0.3.15,!=0.3.16,!=0.3.17,!=0.3.18,!=0.3.19,!=0.3.2,!=0.3.20,!=0.3.21,!=0.3.22,!=0.3.3,!=0.3.4,!=0.3.5,!=0.3.6,!=0.3.7,!=0.3.8,!=0.3.9,<0.4.0,>=0.2.43->langgraph) (6.0.2)\n",
            "Requirement already satisfied: jsonpatch<2.0,>=1.33 in /usr/local/lib/python3.10/dist-packages (from langchain-core!=0.3.0,!=0.3.1,!=0.3.10,!=0.3.11,!=0.3.12,!=0.3.13,!=0.3.14,!=0.3.15,!=0.3.16,!=0.3.17,!=0.3.18,!=0.3.19,!=0.3.2,!=0.3.20,!=0.3.21,!=0.3.22,!=0.3.3,!=0.3.4,!=0.3.5,!=0.3.6,!=0.3.7,!=0.3.8,!=0.3.9,<0.4.0,>=0.2.43->langgraph) (1.33)\n",
            "Requirement already satisfied: langsmith<0.3,>=0.1.125 in /usr/local/lib/python3.10/dist-packages (from langchain-core!=0.3.0,!=0.3.1,!=0.3.10,!=0.3.11,!=0.3.12,!=0.3.13,!=0.3.14,!=0.3.15,!=0.3.16,!=0.3.17,!=0.3.18,!=0.3.19,!=0.3.2,!=0.3.20,!=0.3.21,!=0.3.22,!=0.3.3,!=0.3.4,!=0.3.5,!=0.3.6,!=0.3.7,!=0.3.8,!=0.3.9,<0.4.0,>=0.2.43->langgraph) (0.2.3)\n",
            "Requirement already satisfied: packaging<25,>=23.2 in /usr/local/lib/python3.10/dist-packages (from langchain-core!=0.3.0,!=0.3.1,!=0.3.10,!=0.3.11,!=0.3.12,!=0.3.13,!=0.3.14,!=0.3.15,!=0.3.16,!=0.3.17,!=0.3.18,!=0.3.19,!=0.3.2,!=0.3.20,!=0.3.21,!=0.3.22,!=0.3.3,!=0.3.4,!=0.3.5,!=0.3.6,!=0.3.7,!=0.3.8,!=0.3.9,<0.4.0,>=0.2.43->langgraph) (24.2)\n",
            "Requirement already satisfied: pydantic<3.0.0,>=2.5.2 in /usr/local/lib/python3.10/dist-packages (from langchain-core!=0.3.0,!=0.3.1,!=0.3.10,!=0.3.11,!=0.3.12,!=0.3.13,!=0.3.14,!=0.3.15,!=0.3.16,!=0.3.17,!=0.3.18,!=0.3.19,!=0.3.2,!=0.3.20,!=0.3.21,!=0.3.22,!=0.3.3,!=0.3.4,!=0.3.5,!=0.3.6,!=0.3.7,!=0.3.8,!=0.3.9,<0.4.0,>=0.2.43->langgraph) (2.10.3)\n",
            "Requirement already satisfied: tenacity!=8.4.0,<10.0.0,>=8.1.0 in /usr/local/lib/python3.10/dist-packages (from langchain-core!=0.3.0,!=0.3.1,!=0.3.10,!=0.3.11,!=0.3.12,!=0.3.13,!=0.3.14,!=0.3.15,!=0.3.16,!=0.3.17,!=0.3.18,!=0.3.19,!=0.3.2,!=0.3.20,!=0.3.21,!=0.3.22,!=0.3.3,!=0.3.4,!=0.3.5,!=0.3.6,!=0.3.7,!=0.3.8,!=0.3.9,<0.4.0,>=0.2.43->langgraph) (9.0.0)\n",
            "Requirement already satisfied: typing-extensions>=4.7 in /usr/local/lib/python3.10/dist-packages (from langchain-core!=0.3.0,!=0.3.1,!=0.3.10,!=0.3.11,!=0.3.12,!=0.3.13,!=0.3.14,!=0.3.15,!=0.3.16,!=0.3.17,!=0.3.18,!=0.3.19,!=0.3.2,!=0.3.20,!=0.3.21,!=0.3.22,!=0.3.3,!=0.3.4,!=0.3.5,!=0.3.6,!=0.3.7,!=0.3.8,!=0.3.9,<0.4.0,>=0.2.43->langgraph) (4.12.2)\n",
            "Requirement already satisfied: msgpack<2.0.0,>=1.1.0 in /usr/local/lib/python3.10/dist-packages (from langgraph-checkpoint<3.0.0,>=2.0.4->langgraph) (1.1.0)\n",
            "Requirement already satisfied: httpx>=0.25.2 in /usr/local/lib/python3.10/dist-packages (from langgraph-sdk<0.2.0,>=0.1.42->langgraph) (0.27.2)\n",
            "Requirement already satisfied: orjson>=3.10.1 in /usr/local/lib/python3.10/dist-packages (from langgraph-sdk<0.2.0,>=0.1.42->langgraph) (3.10.12)\n",
            "Requirement already satisfied: anyio in /usr/local/lib/python3.10/dist-packages (from httpx>=0.25.2->langgraph-sdk<0.2.0,>=0.1.42->langgraph) (3.7.1)\n",
            "Requirement already satisfied: certifi in /usr/local/lib/python3.10/dist-packages (from httpx>=0.25.2->langgraph-sdk<0.2.0,>=0.1.42->langgraph) (2024.12.14)\n",
            "Requirement already satisfied: httpcore==1.* in /usr/local/lib/python3.10/dist-packages (from httpx>=0.25.2->langgraph-sdk<0.2.0,>=0.1.42->langgraph) (1.0.7)\n",
            "Requirement already satisfied: idna in /usr/local/lib/python3.10/dist-packages (from httpx>=0.25.2->langgraph-sdk<0.2.0,>=0.1.42->langgraph) (3.10)\n",
            "Requirement already satisfied: sniffio in /usr/local/lib/python3.10/dist-packages (from httpx>=0.25.2->langgraph-sdk<0.2.0,>=0.1.42->langgraph) (1.3.1)\n",
            "Requirement already satisfied: h11<0.15,>=0.13 in /usr/local/lib/python3.10/dist-packages (from httpcore==1.*->httpx>=0.25.2->langgraph-sdk<0.2.0,>=0.1.42->langgraph) (0.14.0)\n",
            "Requirement already satisfied: jsonpointer>=1.9 in /usr/local/lib/python3.10/dist-packages (from jsonpatch<2.0,>=1.33->langchain-core!=0.3.0,!=0.3.1,!=0.3.10,!=0.3.11,!=0.3.12,!=0.3.13,!=0.3.14,!=0.3.15,!=0.3.16,!=0.3.17,!=0.3.18,!=0.3.19,!=0.3.2,!=0.3.20,!=0.3.21,!=0.3.22,!=0.3.3,!=0.3.4,!=0.3.5,!=0.3.6,!=0.3.7,!=0.3.8,!=0.3.9,<0.4.0,>=0.2.43->langgraph) (3.0.0)\n",
            "Requirement already satisfied: requests<3,>=2 in /usr/local/lib/python3.10/dist-packages (from langsmith<0.3,>=0.1.125->langchain-core!=0.3.0,!=0.3.1,!=0.3.10,!=0.3.11,!=0.3.12,!=0.3.13,!=0.3.14,!=0.3.15,!=0.3.16,!=0.3.17,!=0.3.18,!=0.3.19,!=0.3.2,!=0.3.20,!=0.3.21,!=0.3.22,!=0.3.3,!=0.3.4,!=0.3.5,!=0.3.6,!=0.3.7,!=0.3.8,!=0.3.9,<0.4.0,>=0.2.43->langgraph) (2.32.3)\n",
            "Requirement already satisfied: requests-toolbelt<2.0.0,>=1.0.0 in /usr/local/lib/python3.10/dist-packages (from langsmith<0.3,>=0.1.125->langchain-core!=0.3.0,!=0.3.1,!=0.3.10,!=0.3.11,!=0.3.12,!=0.3.13,!=0.3.14,!=0.3.15,!=0.3.16,!=0.3.17,!=0.3.18,!=0.3.19,!=0.3.2,!=0.3.20,!=0.3.21,!=0.3.22,!=0.3.3,!=0.3.4,!=0.3.5,!=0.3.6,!=0.3.7,!=0.3.8,!=0.3.9,<0.4.0,>=0.2.43->langgraph) (1.0.0)\n",
            "Requirement already satisfied: annotated-types>=0.6.0 in /usr/local/lib/python3.10/dist-packages (from pydantic<3.0.0,>=2.5.2->langchain-core!=0.3.0,!=0.3.1,!=0.3.10,!=0.3.11,!=0.3.12,!=0.3.13,!=0.3.14,!=0.3.15,!=0.3.16,!=0.3.17,!=0.3.18,!=0.3.19,!=0.3.2,!=0.3.20,!=0.3.21,!=0.3.22,!=0.3.3,!=0.3.4,!=0.3.5,!=0.3.6,!=0.3.7,!=0.3.8,!=0.3.9,<0.4.0,>=0.2.43->langgraph) (0.7.0)\n",
            "Requirement already satisfied: pydantic-core==2.27.1 in /usr/local/lib/python3.10/dist-packages (from pydantic<3.0.0,>=2.5.2->langchain-core!=0.3.0,!=0.3.1,!=0.3.10,!=0.3.11,!=0.3.12,!=0.3.13,!=0.3.14,!=0.3.15,!=0.3.16,!=0.3.17,!=0.3.18,!=0.3.19,!=0.3.2,!=0.3.20,!=0.3.21,!=0.3.22,!=0.3.3,!=0.3.4,!=0.3.5,!=0.3.6,!=0.3.7,!=0.3.8,!=0.3.9,<0.4.0,>=0.2.43->langgraph) (2.27.1)\n",
            "Requirement already satisfied: charset-normalizer<4,>=2 in /usr/local/lib/python3.10/dist-packages (from requests<3,>=2->langsmith<0.3,>=0.1.125->langchain-core!=0.3.0,!=0.3.1,!=0.3.10,!=0.3.11,!=0.3.12,!=0.3.13,!=0.3.14,!=0.3.15,!=0.3.16,!=0.3.17,!=0.3.18,!=0.3.19,!=0.3.2,!=0.3.20,!=0.3.21,!=0.3.22,!=0.3.3,!=0.3.4,!=0.3.5,!=0.3.6,!=0.3.7,!=0.3.8,!=0.3.9,<0.4.0,>=0.2.43->langgraph) (3.4.0)\n",
            "Requirement already satisfied: urllib3<3,>=1.21.1 in /usr/local/lib/python3.10/dist-packages (from requests<3,>=2->langsmith<0.3,>=0.1.125->langchain-core!=0.3.0,!=0.3.1,!=0.3.10,!=0.3.11,!=0.3.12,!=0.3.13,!=0.3.14,!=0.3.15,!=0.3.16,!=0.3.17,!=0.3.18,!=0.3.19,!=0.3.2,!=0.3.20,!=0.3.21,!=0.3.22,!=0.3.3,!=0.3.4,!=0.3.5,!=0.3.6,!=0.3.7,!=0.3.8,!=0.3.9,<0.4.0,>=0.2.43->langgraph) (2.2.3)\n",
            "Requirement already satisfied: exceptiongroup in /usr/local/lib/python3.10/dist-packages (from anyio->httpx>=0.25.2->langgraph-sdk<0.2.0,>=0.1.42->langgraph) (1.2.2)\n",
            "Requirement already satisfied: langchain-chroma in /usr/local/lib/python3.10/dist-packages (0.1.4)\n",
            "Requirement already satisfied: chromadb!=0.5.4,!=0.5.5,<0.6.0,>=0.4.0 in /usr/local/lib/python3.10/dist-packages (from langchain-chroma) (0.5.23)\n",
            "Requirement already satisfied: fastapi<1,>=0.95.2 in /usr/local/lib/python3.10/dist-packages (from langchain-chroma) (0.115.6)\n",
            "Requirement already satisfied: langchain-core<0.4,>=0.1.40 in /usr/local/lib/python3.10/dist-packages (from langchain-chroma) (0.3.28)\n",
            "Requirement already satisfied: numpy<2,>=1 in /usr/local/lib/python3.10/dist-packages (from langchain-chroma) (1.26.4)\n",
            "Requirement already satisfied: build>=1.0.3 in /usr/local/lib/python3.10/dist-packages (from chromadb!=0.5.4,!=0.5.5,<0.6.0,>=0.4.0->langchain-chroma) (1.2.2.post1)\n",
            "Requirement already satisfied: pydantic>=1.9 in /usr/local/lib/python3.10/dist-packages (from chromadb!=0.5.4,!=0.5.5,<0.6.0,>=0.4.0->langchain-chroma) (2.10.3)\n",
            "Requirement already satisfied: chroma-hnswlib==0.7.6 in /usr/local/lib/python3.10/dist-packages (from chromadb!=0.5.4,!=0.5.5,<0.6.0,>=0.4.0->langchain-chroma) (0.7.6)\n",
            "Requirement already satisfied: uvicorn>=0.18.3 in /usr/local/lib/python3.10/dist-packages (from uvicorn[standard]>=0.18.3->chromadb!=0.5.4,!=0.5.5,<0.6.0,>=0.4.0->langchain-chroma) (0.34.0)\n",
            "Requirement already satisfied: posthog>=2.4.0 in /usr/local/lib/python3.10/dist-packages (from chromadb!=0.5.4,!=0.5.5,<0.6.0,>=0.4.0->langchain-chroma) (3.7.4)\n",
            "Requirement already satisfied: typing_extensions>=4.5.0 in /usr/local/lib/python3.10/dist-packages (from chromadb!=0.5.4,!=0.5.5,<0.6.0,>=0.4.0->langchain-chroma) (4.12.2)\n",
            "Requirement already satisfied: onnxruntime>=1.14.1 in /usr/local/lib/python3.10/dist-packages (from chromadb!=0.5.4,!=0.5.5,<0.6.0,>=0.4.0->langchain-chroma) (1.20.1)\n",
            "Requirement already satisfied: opentelemetry-api>=1.2.0 in /usr/local/lib/python3.10/dist-packages (from chromadb!=0.5.4,!=0.5.5,<0.6.0,>=0.4.0->langchain-chroma) (1.29.0)\n",
            "Requirement already satisfied: opentelemetry-exporter-otlp-proto-grpc>=1.2.0 in /usr/local/lib/python3.10/dist-packages (from chromadb!=0.5.4,!=0.5.5,<0.6.0,>=0.4.0->langchain-chroma) (1.29.0)\n",
            "Requirement already satisfied: opentelemetry-instrumentation-fastapi>=0.41b0 in /usr/local/lib/python3.10/dist-packages (from chromadb!=0.5.4,!=0.5.5,<0.6.0,>=0.4.0->langchain-chroma) (0.50b0)\n",
            "Requirement already satisfied: opentelemetry-sdk>=1.2.0 in /usr/local/lib/python3.10/dist-packages (from chromadb!=0.5.4,!=0.5.5,<0.6.0,>=0.4.0->langchain-chroma) (1.29.0)\n",
            "Requirement already satisfied: tokenizers<=0.20.3,>=0.13.2 in /usr/local/lib/python3.10/dist-packages (from chromadb!=0.5.4,!=0.5.5,<0.6.0,>=0.4.0->langchain-chroma) (0.20.3)\n",
            "Requirement already satisfied: pypika>=0.48.9 in /usr/local/lib/python3.10/dist-packages (from chromadb!=0.5.4,!=0.5.5,<0.6.0,>=0.4.0->langchain-chroma) (0.48.9)\n",
            "Requirement already satisfied: tqdm>=4.65.0 in /usr/local/lib/python3.10/dist-packages (from chromadb!=0.5.4,!=0.5.5,<0.6.0,>=0.4.0->langchain-chroma) (4.67.1)\n",
            "Requirement already satisfied: overrides>=7.3.1 in /usr/local/lib/python3.10/dist-packages (from chromadb!=0.5.4,!=0.5.5,<0.6.0,>=0.4.0->langchain-chroma) (7.7.0)\n",
            "Requirement already satisfied: importlib-resources in /usr/local/lib/python3.10/dist-packages (from chromadb!=0.5.4,!=0.5.5,<0.6.0,>=0.4.0->langchain-chroma) (6.4.5)\n",
            "Requirement already satisfied: grpcio>=1.58.0 in /usr/local/lib/python3.10/dist-packages (from chromadb!=0.5.4,!=0.5.5,<0.6.0,>=0.4.0->langchain-chroma) (1.68.1)\n",
            "Requirement already satisfied: bcrypt>=4.0.1 in /usr/local/lib/python3.10/dist-packages (from chromadb!=0.5.4,!=0.5.5,<0.6.0,>=0.4.0->langchain-chroma) (4.2.1)\n",
            "Requirement already satisfied: typer>=0.9.0 in /usr/local/lib/python3.10/dist-packages (from chromadb!=0.5.4,!=0.5.5,<0.6.0,>=0.4.0->langchain-chroma) (0.15.1)\n",
            "Requirement already satisfied: kubernetes>=28.1.0 in /usr/local/lib/python3.10/dist-packages (from chromadb!=0.5.4,!=0.5.5,<0.6.0,>=0.4.0->langchain-chroma) (31.0.0)\n",
            "Requirement already satisfied: tenacity>=8.2.3 in /usr/local/lib/python3.10/dist-packages (from chromadb!=0.5.4,!=0.5.5,<0.6.0,>=0.4.0->langchain-chroma) (9.0.0)\n",
            "Requirement already satisfied: PyYAML>=6.0.0 in /usr/local/lib/python3.10/dist-packages (from chromadb!=0.5.4,!=0.5.5,<0.6.0,>=0.4.0->langchain-chroma) (6.0.2)\n",
            "Requirement already satisfied: mmh3>=4.0.1 in /usr/local/lib/python3.10/dist-packages (from chromadb!=0.5.4,!=0.5.5,<0.6.0,>=0.4.0->langchain-chroma) (5.0.1)\n",
            "Requirement already satisfied: orjson>=3.9.12 in /usr/local/lib/python3.10/dist-packages (from chromadb!=0.5.4,!=0.5.5,<0.6.0,>=0.4.0->langchain-chroma) (3.10.12)\n",
            "Requirement already satisfied: httpx>=0.27.0 in /usr/local/lib/python3.10/dist-packages (from chromadb!=0.5.4,!=0.5.5,<0.6.0,>=0.4.0->langchain-chroma) (0.27.2)\n",
            "Requirement already satisfied: rich>=10.11.0 in /usr/local/lib/python3.10/dist-packages (from chromadb!=0.5.4,!=0.5.5,<0.6.0,>=0.4.0->langchain-chroma) (13.9.4)\n",
            "Requirement already satisfied: starlette<0.42.0,>=0.40.0 in /usr/local/lib/python3.10/dist-packages (from fastapi<1,>=0.95.2->langchain-chroma) (0.41.3)\n",
            "Requirement already satisfied: jsonpatch<2.0,>=1.33 in /usr/local/lib/python3.10/dist-packages (from langchain-core<0.4,>=0.1.40->langchain-chroma) (1.33)\n",
            "Requirement already satisfied: langsmith<0.3,>=0.1.125 in /usr/local/lib/python3.10/dist-packages (from langchain-core<0.4,>=0.1.40->langchain-chroma) (0.2.3)\n",
            "Requirement already satisfied: packaging<25,>=23.2 in /usr/local/lib/python3.10/dist-packages (from langchain-core<0.4,>=0.1.40->langchain-chroma) (24.2)\n",
            "Requirement already satisfied: pyproject_hooks in /usr/local/lib/python3.10/dist-packages (from build>=1.0.3->chromadb!=0.5.4,!=0.5.5,<0.6.0,>=0.4.0->langchain-chroma) (1.2.0)\n",
            "Requirement already satisfied: tomli>=1.1.0 in /usr/local/lib/python3.10/dist-packages (from build>=1.0.3->chromadb!=0.5.4,!=0.5.5,<0.6.0,>=0.4.0->langchain-chroma) (2.2.1)\n",
            "Requirement already satisfied: anyio in /usr/local/lib/python3.10/dist-packages (from httpx>=0.27.0->chromadb!=0.5.4,!=0.5.5,<0.6.0,>=0.4.0->langchain-chroma) (3.7.1)\n",
            "Requirement already satisfied: certifi in /usr/local/lib/python3.10/dist-packages (from httpx>=0.27.0->chromadb!=0.5.4,!=0.5.5,<0.6.0,>=0.4.0->langchain-chroma) (2024.12.14)\n",
            "Requirement already satisfied: httpcore==1.* in /usr/local/lib/python3.10/dist-packages (from httpx>=0.27.0->chromadb!=0.5.4,!=0.5.5,<0.6.0,>=0.4.0->langchain-chroma) (1.0.7)\n",
            "Requirement already satisfied: idna in /usr/local/lib/python3.10/dist-packages (from httpx>=0.27.0->chromadb!=0.5.4,!=0.5.5,<0.6.0,>=0.4.0->langchain-chroma) (3.10)\n",
            "Requirement already satisfied: sniffio in /usr/local/lib/python3.10/dist-packages (from httpx>=0.27.0->chromadb!=0.5.4,!=0.5.5,<0.6.0,>=0.4.0->langchain-chroma) (1.3.1)\n",
            "Requirement already satisfied: h11<0.15,>=0.13 in /usr/local/lib/python3.10/dist-packages (from httpcore==1.*->httpx>=0.27.0->chromadb!=0.5.4,!=0.5.5,<0.6.0,>=0.4.0->langchain-chroma) (0.14.0)\n",
            "Requirement already satisfied: jsonpointer>=1.9 in /usr/local/lib/python3.10/dist-packages (from jsonpatch<2.0,>=1.33->langchain-core<0.4,>=0.1.40->langchain-chroma) (3.0.0)\n",
            "Requirement already satisfied: six>=1.9.0 in /usr/local/lib/python3.10/dist-packages (from kubernetes>=28.1.0->chromadb!=0.5.4,!=0.5.5,<0.6.0,>=0.4.0->langchain-chroma) (1.17.0)\n",
            "Requirement already satisfied: python-dateutil>=2.5.3 in /usr/local/lib/python3.10/dist-packages (from kubernetes>=28.1.0->chromadb!=0.5.4,!=0.5.5,<0.6.0,>=0.4.0->langchain-chroma) (2.8.2)\n",
            "Requirement already satisfied: google-auth>=1.0.1 in /usr/local/lib/python3.10/dist-packages (from kubernetes>=28.1.0->chromadb!=0.5.4,!=0.5.5,<0.6.0,>=0.4.0->langchain-chroma) (2.27.0)\n",
            "Requirement already satisfied: websocket-client!=0.40.0,!=0.41.*,!=0.42.*,>=0.32.0 in /usr/local/lib/python3.10/dist-packages (from kubernetes>=28.1.0->chromadb!=0.5.4,!=0.5.5,<0.6.0,>=0.4.0->langchain-chroma) (1.8.0)\n",
            "Requirement already satisfied: requests in /usr/local/lib/python3.10/dist-packages (from kubernetes>=28.1.0->chromadb!=0.5.4,!=0.5.5,<0.6.0,>=0.4.0->langchain-chroma) (2.32.3)\n",
            "Requirement already satisfied: requests-oauthlib in /usr/local/lib/python3.10/dist-packages (from kubernetes>=28.1.0->chromadb!=0.5.4,!=0.5.5,<0.6.0,>=0.4.0->langchain-chroma) (1.3.1)\n",
            "Requirement already satisfied: oauthlib>=3.2.2 in /usr/local/lib/python3.10/dist-packages (from kubernetes>=28.1.0->chromadb!=0.5.4,!=0.5.5,<0.6.0,>=0.4.0->langchain-chroma) (3.2.2)\n",
            "Requirement already satisfied: urllib3>=1.24.2 in /usr/local/lib/python3.10/dist-packages (from kubernetes>=28.1.0->chromadb!=0.5.4,!=0.5.5,<0.6.0,>=0.4.0->langchain-chroma) (2.2.3)\n",
            "Requirement already satisfied: durationpy>=0.7 in /usr/local/lib/python3.10/dist-packages (from kubernetes>=28.1.0->chromadb!=0.5.4,!=0.5.5,<0.6.0,>=0.4.0->langchain-chroma) (0.9)\n",
            "Requirement already satisfied: requests-toolbelt<2.0.0,>=1.0.0 in /usr/local/lib/python3.10/dist-packages (from langsmith<0.3,>=0.1.125->langchain-core<0.4,>=0.1.40->langchain-chroma) (1.0.0)\n",
            "Requirement already satisfied: coloredlogs in /usr/local/lib/python3.10/dist-packages (from onnxruntime>=1.14.1->chromadb!=0.5.4,!=0.5.5,<0.6.0,>=0.4.0->langchain-chroma) (15.0.1)\n",
            "Requirement already satisfied: flatbuffers in /usr/local/lib/python3.10/dist-packages (from onnxruntime>=1.14.1->chromadb!=0.5.4,!=0.5.5,<0.6.0,>=0.4.0->langchain-chroma) (24.3.25)\n",
            "Requirement already satisfied: protobuf in /usr/local/lib/python3.10/dist-packages (from onnxruntime>=1.14.1->chromadb!=0.5.4,!=0.5.5,<0.6.0,>=0.4.0->langchain-chroma) (5.29.2)\n",
            "Requirement already satisfied: sympy in /usr/local/lib/python3.10/dist-packages (from onnxruntime>=1.14.1->chromadb!=0.5.4,!=0.5.5,<0.6.0,>=0.4.0->langchain-chroma) (1.13.1)\n",
            "Requirement already satisfied: deprecated>=1.2.6 in /usr/local/lib/python3.10/dist-packages (from opentelemetry-api>=1.2.0->chromadb!=0.5.4,!=0.5.5,<0.6.0,>=0.4.0->langchain-chroma) (1.2.15)\n",
            "Requirement already satisfied: importlib-metadata<=8.5.0,>=6.0 in /usr/local/lib/python3.10/dist-packages (from opentelemetry-api>=1.2.0->chromadb!=0.5.4,!=0.5.5,<0.6.0,>=0.4.0->langchain-chroma) (8.5.0)\n",
            "Requirement already satisfied: googleapis-common-protos~=1.52 in /usr/local/lib/python3.10/dist-packages (from opentelemetry-exporter-otlp-proto-grpc>=1.2.0->chromadb!=0.5.4,!=0.5.5,<0.6.0,>=0.4.0->langchain-chroma) (1.66.0)\n",
            "Requirement already satisfied: opentelemetry-exporter-otlp-proto-common==1.29.0 in /usr/local/lib/python3.10/dist-packages (from opentelemetry-exporter-otlp-proto-grpc>=1.2.0->chromadb!=0.5.4,!=0.5.5,<0.6.0,>=0.4.0->langchain-chroma) (1.29.0)\n",
            "Requirement already satisfied: opentelemetry-proto==1.29.0 in /usr/local/lib/python3.10/dist-packages (from opentelemetry-exporter-otlp-proto-grpc>=1.2.0->chromadb!=0.5.4,!=0.5.5,<0.6.0,>=0.4.0->langchain-chroma) (1.29.0)\n",
            "Requirement already satisfied: opentelemetry-instrumentation-asgi==0.50b0 in /usr/local/lib/python3.10/dist-packages (from opentelemetry-instrumentation-fastapi>=0.41b0->chromadb!=0.5.4,!=0.5.5,<0.6.0,>=0.4.0->langchain-chroma) (0.50b0)\n",
            "Requirement already satisfied: opentelemetry-instrumentation==0.50b0 in /usr/local/lib/python3.10/dist-packages (from opentelemetry-instrumentation-fastapi>=0.41b0->chromadb!=0.5.4,!=0.5.5,<0.6.0,>=0.4.0->langchain-chroma) (0.50b0)\n",
            "Requirement already satisfied: opentelemetry-semantic-conventions==0.50b0 in /usr/local/lib/python3.10/dist-packages (from opentelemetry-instrumentation-fastapi>=0.41b0->chromadb!=0.5.4,!=0.5.5,<0.6.0,>=0.4.0->langchain-chroma) (0.50b0)\n",
            "Requirement already satisfied: opentelemetry-util-http==0.50b0 in /usr/local/lib/python3.10/dist-packages (from opentelemetry-instrumentation-fastapi>=0.41b0->chromadb!=0.5.4,!=0.5.5,<0.6.0,>=0.4.0->langchain-chroma) (0.50b0)\n",
            "Requirement already satisfied: wrapt<2.0.0,>=1.0.0 in /usr/local/lib/python3.10/dist-packages (from opentelemetry-instrumentation==0.50b0->opentelemetry-instrumentation-fastapi>=0.41b0->chromadb!=0.5.4,!=0.5.5,<0.6.0,>=0.4.0->langchain-chroma) (1.17.0)\n",
            "Requirement already satisfied: asgiref~=3.0 in /usr/local/lib/python3.10/dist-packages (from opentelemetry-instrumentation-asgi==0.50b0->opentelemetry-instrumentation-fastapi>=0.41b0->chromadb!=0.5.4,!=0.5.5,<0.6.0,>=0.4.0->langchain-chroma) (3.8.1)\n",
            "Requirement already satisfied: monotonic>=1.5 in /usr/local/lib/python3.10/dist-packages (from posthog>=2.4.0->chromadb!=0.5.4,!=0.5.5,<0.6.0,>=0.4.0->langchain-chroma) (1.6)\n",
            "Requirement already satisfied: backoff>=1.10.0 in /usr/local/lib/python3.10/dist-packages (from posthog>=2.4.0->chromadb!=0.5.4,!=0.5.5,<0.6.0,>=0.4.0->langchain-chroma) (2.2.1)\n",
            "Requirement already satisfied: annotated-types>=0.6.0 in /usr/local/lib/python3.10/dist-packages (from pydantic>=1.9->chromadb!=0.5.4,!=0.5.5,<0.6.0,>=0.4.0->langchain-chroma) (0.7.0)\n",
            "Requirement already satisfied: pydantic-core==2.27.1 in /usr/local/lib/python3.10/dist-packages (from pydantic>=1.9->chromadb!=0.5.4,!=0.5.5,<0.6.0,>=0.4.0->langchain-chroma) (2.27.1)\n",
            "Requirement already satisfied: markdown-it-py>=2.2.0 in /usr/local/lib/python3.10/dist-packages (from rich>=10.11.0->chromadb!=0.5.4,!=0.5.5,<0.6.0,>=0.4.0->langchain-chroma) (3.0.0)\n",
            "Requirement already satisfied: pygments<3.0.0,>=2.13.0 in /usr/local/lib/python3.10/dist-packages (from rich>=10.11.0->chromadb!=0.5.4,!=0.5.5,<0.6.0,>=0.4.0->langchain-chroma) (2.18.0)\n",
            "Requirement already satisfied: huggingface-hub<1.0,>=0.16.4 in /usr/local/lib/python3.10/dist-packages (from tokenizers<=0.20.3,>=0.13.2->chromadb!=0.5.4,!=0.5.5,<0.6.0,>=0.4.0->langchain-chroma) (0.27.0)\n",
            "Requirement already satisfied: click>=8.0.0 in /usr/local/lib/python3.10/dist-packages (from typer>=0.9.0->chromadb!=0.5.4,!=0.5.5,<0.6.0,>=0.4.0->langchain-chroma) (8.1.7)\n",
            "Requirement already satisfied: shellingham>=1.3.0 in /usr/local/lib/python3.10/dist-packages (from typer>=0.9.0->chromadb!=0.5.4,!=0.5.5,<0.6.0,>=0.4.0->langchain-chroma) (1.5.4)\n",
            "Requirement already satisfied: httptools>=0.6.3 in /usr/local/lib/python3.10/dist-packages (from uvicorn[standard]>=0.18.3->chromadb!=0.5.4,!=0.5.5,<0.6.0,>=0.4.0->langchain-chroma) (0.6.4)\n",
            "Requirement already satisfied: python-dotenv>=0.13 in /usr/local/lib/python3.10/dist-packages (from uvicorn[standard]>=0.18.3->chromadb!=0.5.4,!=0.5.5,<0.6.0,>=0.4.0->langchain-chroma) (1.0.1)\n",
            "Requirement already satisfied: uvloop!=0.15.0,!=0.15.1,>=0.14.0 in /usr/local/lib/python3.10/dist-packages (from uvicorn[standard]>=0.18.3->chromadb!=0.5.4,!=0.5.5,<0.6.0,>=0.4.0->langchain-chroma) (0.21.0)\n",
            "Requirement already satisfied: watchfiles>=0.13 in /usr/local/lib/python3.10/dist-packages (from uvicorn[standard]>=0.18.3->chromadb!=0.5.4,!=0.5.5,<0.6.0,>=0.4.0->langchain-chroma) (1.0.3)\n",
            "Requirement already satisfied: websockets>=10.4 in /usr/local/lib/python3.10/dist-packages (from uvicorn[standard]>=0.18.3->chromadb!=0.5.4,!=0.5.5,<0.6.0,>=0.4.0->langchain-chroma) (14.1)\n",
            "Requirement already satisfied: exceptiongroup in /usr/local/lib/python3.10/dist-packages (from anyio->httpx>=0.27.0->chromadb!=0.5.4,!=0.5.5,<0.6.0,>=0.4.0->langchain-chroma) (1.2.2)\n",
            "Requirement already satisfied: cachetools<6.0,>=2.0.0 in /usr/local/lib/python3.10/dist-packages (from google-auth>=1.0.1->kubernetes>=28.1.0->chromadb!=0.5.4,!=0.5.5,<0.6.0,>=0.4.0->langchain-chroma) (5.5.0)\n",
            "Requirement already satisfied: pyasn1-modules>=0.2.1 in /usr/local/lib/python3.10/dist-packages (from google-auth>=1.0.1->kubernetes>=28.1.0->chromadb!=0.5.4,!=0.5.5,<0.6.0,>=0.4.0->langchain-chroma) (0.4.1)\n",
            "Requirement already satisfied: rsa<5,>=3.1.4 in /usr/local/lib/python3.10/dist-packages (from google-auth>=1.0.1->kubernetes>=28.1.0->chromadb!=0.5.4,!=0.5.5,<0.6.0,>=0.4.0->langchain-chroma) (4.9)\n",
            "Requirement already satisfied: filelock in /usr/local/lib/python3.10/dist-packages (from huggingface-hub<1.0,>=0.16.4->tokenizers<=0.20.3,>=0.13.2->chromadb!=0.5.4,!=0.5.5,<0.6.0,>=0.4.0->langchain-chroma) (3.16.1)\n",
            "Requirement already satisfied: fsspec>=2023.5.0 in /usr/local/lib/python3.10/dist-packages (from huggingface-hub<1.0,>=0.16.4->tokenizers<=0.20.3,>=0.13.2->chromadb!=0.5.4,!=0.5.5,<0.6.0,>=0.4.0->langchain-chroma) (2024.10.0)\n",
            "Requirement already satisfied: zipp>=3.20 in /usr/local/lib/python3.10/dist-packages (from importlib-metadata<=8.5.0,>=6.0->opentelemetry-api>=1.2.0->chromadb!=0.5.4,!=0.5.5,<0.6.0,>=0.4.0->langchain-chroma) (3.21.0)\n",
            "Requirement already satisfied: mdurl~=0.1 in /usr/local/lib/python3.10/dist-packages (from markdown-it-py>=2.2.0->rich>=10.11.0->chromadb!=0.5.4,!=0.5.5,<0.6.0,>=0.4.0->langchain-chroma) (0.1.2)\n",
            "Requirement already satisfied: charset-normalizer<4,>=2 in /usr/local/lib/python3.10/dist-packages (from requests->kubernetes>=28.1.0->chromadb!=0.5.4,!=0.5.5,<0.6.0,>=0.4.0->langchain-chroma) (3.4.0)\n",
            "Requirement already satisfied: humanfriendly>=9.1 in /usr/local/lib/python3.10/dist-packages (from coloredlogs->onnxruntime>=1.14.1->chromadb!=0.5.4,!=0.5.5,<0.6.0,>=0.4.0->langchain-chroma) (10.0)\n",
            "Requirement already satisfied: mpmath<1.4,>=1.1.0 in /usr/local/lib/python3.10/dist-packages (from sympy->onnxruntime>=1.14.1->chromadb!=0.5.4,!=0.5.5,<0.6.0,>=0.4.0->langchain-chroma) (1.3.0)\n",
            "Requirement already satisfied: pyasn1<0.7.0,>=0.4.6 in /usr/local/lib/python3.10/dist-packages (from pyasn1-modules>=0.2.1->google-auth>=1.0.1->kubernetes>=28.1.0->chromadb!=0.5.4,!=0.5.5,<0.6.0,>=0.4.0->langchain-chroma) (0.6.1)\n"
          ]
        }
      ],
      "source": [
        "!pip install langchain\n",
        "!pip install langchain-openai\n",
        "!pip install langchain-community\n",
        "!pip install langgraph\n",
        "!pip install langchain-chroma"
      ]
    },
    {
      "cell_type": "code",
      "source": [
        "!pip install openai==1.55.3\n",
        "!pip install httpx==0.27.2\n",
        "!pip install typing-extensions>=4.11.0,<5.0.0"
      ],
      "metadata": {
        "colab": {
          "base_uri": "https://localhost:8080/"
        },
        "id": "AAbPLWAH2T_R",
        "outputId": "91453932-c94e-4cac-9d89-c198c4a96329"
      },
      "execution_count": 48,
      "outputs": [
        {
          "output_type": "stream",
          "name": "stdout",
          "text": [
            "Collecting openai==1.55.3\n",
            "  Using cached openai-1.55.3-py3-none-any.whl.metadata (24 kB)\n",
            "Requirement already satisfied: anyio<5,>=3.5.0 in /usr/local/lib/python3.10/dist-packages (from openai==1.55.3) (3.7.1)\n",
            "Requirement already satisfied: distro<2,>=1.7.0 in /usr/local/lib/python3.10/dist-packages (from openai==1.55.3) (1.9.0)\n",
            "Requirement already satisfied: httpx<1,>=0.23.0 in /usr/local/lib/python3.10/dist-packages (from openai==1.55.3) (0.27.2)\n",
            "Requirement already satisfied: jiter<1,>=0.4.0 in /usr/local/lib/python3.10/dist-packages (from openai==1.55.3) (0.8.2)\n",
            "Requirement already satisfied: pydantic<3,>=1.9.0 in /usr/local/lib/python3.10/dist-packages (from openai==1.55.3) (2.10.3)\n",
            "Requirement already satisfied: sniffio in /usr/local/lib/python3.10/dist-packages (from openai==1.55.3) (1.3.1)\n",
            "Requirement already satisfied: tqdm>4 in /usr/local/lib/python3.10/dist-packages (from openai==1.55.3) (4.67.1)\n",
            "Requirement already satisfied: typing-extensions<5,>=4.11 in /usr/local/lib/python3.10/dist-packages (from openai==1.55.3) (4.12.2)\n",
            "Requirement already satisfied: idna>=2.8 in /usr/local/lib/python3.10/dist-packages (from anyio<5,>=3.5.0->openai==1.55.3) (3.10)\n",
            "Requirement already satisfied: exceptiongroup in /usr/local/lib/python3.10/dist-packages (from anyio<5,>=3.5.0->openai==1.55.3) (1.2.2)\n",
            "Requirement already satisfied: certifi in /usr/local/lib/python3.10/dist-packages (from httpx<1,>=0.23.0->openai==1.55.3) (2024.12.14)\n",
            "Requirement already satisfied: httpcore==1.* in /usr/local/lib/python3.10/dist-packages (from httpx<1,>=0.23.0->openai==1.55.3) (1.0.7)\n",
            "Requirement already satisfied: h11<0.15,>=0.13 in /usr/local/lib/python3.10/dist-packages (from httpcore==1.*->httpx<1,>=0.23.0->openai==1.55.3) (0.14.0)\n",
            "Requirement already satisfied: annotated-types>=0.6.0 in /usr/local/lib/python3.10/dist-packages (from pydantic<3,>=1.9.0->openai==1.55.3) (0.7.0)\n",
            "Requirement already satisfied: pydantic-core==2.27.1 in /usr/local/lib/python3.10/dist-packages (from pydantic<3,>=1.9.0->openai==1.55.3) (2.27.1)\n",
            "Using cached openai-1.55.3-py3-none-any.whl (389 kB)\n",
            "Installing collected packages: openai\n",
            "  Attempting uninstall: openai\n",
            "    Found existing installation: openai 1.58.1\n",
            "    Uninstalling openai-1.58.1:\n",
            "      Successfully uninstalled openai-1.58.1\n",
            "\u001b[31mERROR: pip's dependency resolver does not currently take into account all the packages that are installed. This behaviour is the source of the following dependency conflicts.\n",
            "langchain-openai 0.2.14 requires openai<2.0.0,>=1.58.1, but you have openai 1.55.3 which is incompatible.\u001b[0m\u001b[31m\n",
            "\u001b[0mSuccessfully installed openai-1.55.3\n",
            "Requirement already satisfied: httpx==0.27.2 in /usr/local/lib/python3.10/dist-packages (0.27.2)\n",
            "Requirement already satisfied: anyio in /usr/local/lib/python3.10/dist-packages (from httpx==0.27.2) (3.7.1)\n",
            "Requirement already satisfied: certifi in /usr/local/lib/python3.10/dist-packages (from httpx==0.27.2) (2024.12.14)\n",
            "Requirement already satisfied: httpcore==1.* in /usr/local/lib/python3.10/dist-packages (from httpx==0.27.2) (1.0.7)\n",
            "Requirement already satisfied: idna in /usr/local/lib/python3.10/dist-packages (from httpx==0.27.2) (3.10)\n",
            "Requirement already satisfied: sniffio in /usr/local/lib/python3.10/dist-packages (from httpx==0.27.2) (1.3.1)\n",
            "Requirement already satisfied: h11<0.15,>=0.13 in /usr/local/lib/python3.10/dist-packages (from httpcore==1.*->httpx==0.27.2) (0.14.0)\n",
            "Requirement already satisfied: exceptiongroup in /usr/local/lib/python3.10/dist-packages (from anyio->httpx==0.27.2) (1.2.2)\n",
            "/bin/bash: line 1: 5.0.0: No such file or directory\n"
          ]
        }
      ]
    },
    {
      "cell_type": "code",
      "source": [
        "from google.colab import userdata\n",
        "TAVILY_API_KEY=userdata.get('TAVILY_API_KEY')\n",
        "OPENAI_KEY=userdata.get('OPENAI_API_KEY')"
      ],
      "metadata": {
        "id": "rJaCuytAveOR"
      },
      "execution_count": 49,
      "outputs": []
    },
    {
      "cell_type": "code",
      "source": [
        "import os\n",
        "os.environ['OPENAI_API_KEY'] = OPENAI_KEY\n",
        "os.environ['TAVILY_API_KEY'] = TAVILY_API_KEY"
      ],
      "metadata": {
        "id": "CHDZ1KCrx7HT"
      },
      "execution_count": 50,
      "outputs": []
    },
    {
      "cell_type": "code",
      "source": [
        "from langchain_openai import OpenAIEmbeddings\n",
        "openai_embed_model = OpenAIEmbeddings(model='text-embedding-3-small')"
      ],
      "metadata": {
        "id": "7SPQ6AcVx-j1"
      },
      "execution_count": 51,
      "outputs": []
    },
    {
      "cell_type": "code",
      "source": [
        "!gdown 1oWBnoxBZ1Mpeond8XDUSO6J9oAjcRDyW"
      ],
      "metadata": {
        "colab": {
          "base_uri": "https://localhost:8080/"
        },
        "id": "AMFMTtWUyE7p",
        "outputId": "58195bb9-0bea-4ae8-b0e7-0c903e61c52f"
      },
      "execution_count": 52,
      "outputs": [
        {
          "output_type": "stream",
          "name": "stdout",
          "text": [
            "Downloading...\n",
            "From (original): https://drive.google.com/uc?id=1oWBnoxBZ1Mpeond8XDUSO6J9oAjcRDyW\n",
            "From (redirected): https://drive.google.com/uc?id=1oWBnoxBZ1Mpeond8XDUSO6J9oAjcRDyW&confirm=t&uuid=baf0b38c-a9f1-4d74-bc18-e86af5d10d5e\n",
            "To: /content/simplewiki-2020-11-01.jsonl.gz\n",
            "\r  0% 0.00/50.2M [00:00<?, ?B/s]\r 31% 15.7M/50.2M [00:00<00:00, 155MB/s]\r 71% 35.7M/50.2M [00:00<00:00, 180MB/s]\r100% 50.2M/50.2M [00:00<00:00, 190MB/s]\n"
          ]
        }
      ]
    },
    {
      "cell_type": "code",
      "source": [
        "import gzip\n",
        "import json\n",
        "from langchain.docstore.document import Document\n",
        "from langchain.text_splitter import RecursiveCharacterTextSplitter\n",
        "wikipedia_filepath = 'simplewiki-2020-11-01.jsonl.gz'\n",
        "docs = []"
      ],
      "metadata": {
        "id": "s5IRxgGq6gjt"
      },
      "execution_count": 131,
      "outputs": []
    },
    {
      "cell_type": "code",
      "source": [
        "os.getcwd()"
      ],
      "metadata": {
        "colab": {
          "base_uri": "https://localhost:8080/",
          "height": 36
        },
        "id": "dFapbdxnTyLk",
        "outputId": "7989c314-3c42-469f-cee1-363013e4085c"
      },
      "execution_count": 132,
      "outputs": [
        {
          "output_type": "execute_result",
          "data": {
            "text/plain": [
              "'/content'"
            ],
            "application/vnd.google.colaboratory.intrinsic+json": {
              "type": "string"
            }
          },
          "metadata": {},
          "execution_count": 132
        }
      ]
    },
    {
      "cell_type": "code",
      "source": [
        "import gzip\n",
        "import json\n",
        "\n",
        "# Path to the gzipped JSONL file\n",
        "file_path = \"simplewiki-2020-11-01.jsonl.gz\"\n",
        "\n",
        "# Counter for articles\n",
        "article_count = 0\n",
        "\n",
        "# Open the gzipped file and process it line by line\n",
        "with gzip.open(file_path, 'rt', encoding='utf-8') as f:\n",
        "    for line in f:\n",
        "        # Each line is a JSON object representing an article\n",
        "        article = json.loads(line.strip())\n",
        "        article_count += 1\n",
        "print(article_count)"
      ],
      "metadata": {
        "colab": {
          "base_uri": "https://localhost:8080/"
        },
        "id": "9DxREdo-BodG",
        "outputId": "db9b3cf9-4378-44c7-99b1-3f1cc50f6f15"
      },
      "execution_count": 133,
      "outputs": [
        {
          "output_type": "stream",
          "name": "stdout",
          "text": [
            "169597\n"
          ]
        }
      ]
    },
    {
      "cell_type": "code",
      "source": [
        "with gzip.open(wikipedia_filepath, 'rt', encoding='utf8') as fIn:\n",
        "    for line in fIn:\n",
        "\n",
        "        data = json.loads(line.strip())\n",
        "        #Add documents\n",
        "        docs.append({\n",
        "                        'metadata': {\n",
        "                                        'title': data.get('title'),\n",
        "                                        'article_id': data.get('id')\n",
        "                        },\n",
        "                        'data': ' '.join(data.get('paragraphs')[0:3])\n",
        "        # restrict data to first 3 paragraphs to run later modules faster\n",
        "        })"
      ],
      "metadata": {
        "id": "f_-SAu_26g-y"
      },
      "execution_count": 134,
      "outputs": []
    },
    {
      "cell_type": "code",
      "source": [
        "len(docs)\n"
      ],
      "metadata": {
        "colab": {
          "base_uri": "https://localhost:8080/"
        },
        "id": "NH9TZF0ABFAJ",
        "outputId": "b71a3a32-842c-437f-ba9d-3d9f6f0e09c4"
      },
      "execution_count": 135,
      "outputs": [
        {
          "output_type": "execute_result",
          "data": {
            "text/plain": [
              "169597"
            ]
          },
          "metadata": {},
          "execution_count": 135
        }
      ]
    },
    {
      "cell_type": "code",
      "source": [
        "docs = [doc for doc in docs for x in ['smuggling'] if x in doc['data'].lower().split()]"
      ],
      "metadata": {
        "id": "RX5bYv569dwv"
      },
      "execution_count": 136,
      "outputs": []
    },
    {
      "cell_type": "code",
      "source": [
        "docs"
      ],
      "metadata": {
        "colab": {
          "base_uri": "https://localhost:8080/"
        },
        "id": "aNYYG8onBxzw",
        "outputId": "c23cb16f-ef08-4472-b33a-81b8f074d58c"
      },
      "execution_count": 137,
      "outputs": [
        {
          "output_type": "execute_result",
          "data": {
            "text/plain": [
              "[{'metadata': {'title': 'Jihad Ahmed Jibril', 'article_id': '55144'},\n",
              "  'data': 'Mohammed Jihad Ahmed Jibril (March 3, 1961 in Damascus - May 20, 2002 in Beirut) was the son of Ahmed Jibril, founder of the Popular Front for the Liberation of Palestine-General Command (PFLP-GC). He was killed by a car bomb. He was assassinated on May 20, 2002. Jihad Ahmed Jibril was the leader of the military wing of the PFLP-GC and was the heir apparent of the organization before he was killed in a car bombing in Beirut in 2002. The assassination was blamed on Israel, although Jibril had many other enemies, including the Lebanese Christian militia and other Palestinian nationalist organizations. Ahmed Jibril was co-leader of the militant Popular Front for the Liberation of Palestine-General Command. Israeli radio reports said that the son, Jihad Ahmed Jibril, was involved in smuggling arms and explosives to Palestinian militants in the West Bank and Gaza Strip.'},\n",
              " {'metadata': {'title': 'Crime in Russia', 'article_id': '100715'},\n",
              "  'data': \"Crime in Russia has many different types. Organized crimes include drug trafficking, money laundering, human trafficking, extortion, murder for hire, and fraud. Many criminal operations take part in corruption, black marketeering, terrorism and abduction. Other forms of crime done by criminal groups are arms trafficking, export of contraband oil and metals, and smuggling of radioactive materials. Crime rate in Russia sharply increased since the late 1980s. The fall of communism in Eastern Europe had tremendous influence on the political economy of organized crime. Approximately 8,000 criminal groups are in the country. Almost 50% of the nation's economy is connected to organized crime. Drug trafficking and illegal drug use is a big problem in the nation. The disintegration of the Soviet Union, the civil war in Afghanistan, the civil war in Tajikistan, and the conflicts in the North Caucasus have made the favorable conditions for the development of illegal drug trade. But measures have been taken to fight drug trafficking. Russia is a party of the 1988 United Nations Convention Against Illicit Traffic in Narcotic Drugs and Psychotropic Substances. In March 2003, Russian President Vladimir Putin established the Russian State Committee for Control over the Illegal Trafficking of Narcotics and Psychotropic Substances for combating drug trafficking with more coordinated manner.\"},\n",
              " {'metadata': {'title': 'BioShock', 'article_id': '121614'},\n",
              "  'data': 'BioShock is a first person shooter/survival horror video game made by 2K Games for the Xbox 360, Windows, PlayStation 3, and Nintendo Switch video game consoles. It got very good reviews and sold very well. The game\\'s story is about a man who is in a plane crash in the Atlantic Ocean and finds a lighthouse in the middle of the sea, which takes him to an underwater city created by a man named Andrew Ryan called Rapture, which is home to many violent creatures called Splicers, who are people became insane because of mutation. \"BioShock\" is set during 1960, in Rapture, a fictional underwater city. The player learns about Rapture by listening to voice recordings. Rapture was created by a man called Andrew Ryan, who did not like the political, economic, and religious powers that existed over land. He wanted Rapture to be a place where people could do and become whatever they wanted. The city was secretly built in 1946 on a mid-Atlantic seabed, using submarine volcanoes to give geothermal power. Scientific progress grew in Rapture because there were no governments or religious organizations that could put limits on research. This was how Ryan brought many brilliant scientists into the city. This led to fast developments in engineering and biotechnology. These scientists also discovered ADAM, stem cells harvested from an unknown species of sea slug, which were discovered by Dr. Bridgette Tenenbaum to have the ability to heal damaged tissue and rewrite the human genome. Tenenbaum joined with businessman and mobster Frank Fontaine to create the plasmid industry, which offered superhuman physical enhancements to its customers. Tenenbaum found that ADAM could be mass-produced by implanting the slugs in the stomachs of young girls (\"Little Sisters\"), taken from orphanages founded by Fontaine. As time passed, the gap between rich and poor increased. Frank Fontaine created charity organizations to support the underclass. His goal was to use his charity organizations to manipulate the poor. He also made a smuggling operation to supply citizens with forbidden items from the surface, such as religious material. These, along with his control of the plasmid industry, made him immensely powerful. He tried to overthrow Ryan, but the revolt was violently crushed and Fontaine was said to be dead. Ryan seized control of Fontaine\\'s plasmid business. Within a few months, a new figure named Atlas rose as the leader of the disgruntled lower class. On New Year\\'s Eve of 1959, Atlas and his ADAM-infused followers began a new revolt against Ryan that spread throughout Rapture. Ryan in turn began splicing his own forces, and his paranoia had reached such a level he was hanging dozens of people, mostly innocent, in Rapture\\'s main square. In order to solve ADAM shortages, the Little Sisters were mentally conditioned to wander the city and extract ADAM from the dead, recycling it into raw ADAM in their stomachs after swallowing it. \"Big Daddies\", enhanced and mentally sterilized humans in armored diving suits, were created by Dr. Suchong, the scientist behind many plasmids, to protect the Little Sisters in their work.'},\n",
              " {'metadata': {'title': 'United States Coast Guard', 'article_id': '58177'},\n",
              "  'data': \"The United States Coast Guard is one of the 5 branches of the military of the United States. It is a part of the United States Department of Homeland Security. The Coast Guard's purpose is to protect the people, environment, industry and security of the United States on seas, lakes and rivers. To do this, the Coast Guard uses boats, ships, helicopters and airplanes to stop smuggling and other crime and terrorism, and to rescue ships and boats in danger. The Coast Guard traces its roots back to the United States Revenue Cutter Service, which was created by Congress on 4 August 1790. As such, the Coast Guard is the oldest continuous seagoing service of the United States. The modern United States Coast Guard was started on January 28, 1915. This is when the U. S. Congress ordered the United States Revenue Cutter Service and the United States Life-Saving Service to merge into a single service. The Coast Guard can become part of the Department of the Navy during war, but it is not now. It became part of the U.S. Department of Homeland Security in 2003.\"},\n",
              " {'metadata': {'title': 'Beer (Devon)', 'article_id': '12229'},\n",
              "  'data': \"Beer is the name of a village in Devon, South West England. It is famous for underground quarries started by the Romans which have supplied stone for many of England's Historic buildings. Fishing was also a large industry with smuggling connections and the ladies of Beer made the lace for Queen Victoria's wedding dress.\"},\n",
              " {'metadata': {'title': 'Dino Bravo', 'article_id': '252360'},\n",
              "  'data': 'Adolfo Bresciano (August 6, 1948 – March 10, 1993) was an Italian-born Canadian professional wrestler. He was better known by his ring name Dino Bravo. He was self-proclaimed as \"Canada\\'s Strongest Man\" and later the \"World\\'s Strongest Man\". Bravo is best known for his time wrestling in World Wrestling Federation (WWF). During his time there, Bravo was a one-time WWWF World Tag Team Champion with Dominic DeNucci and was the only wrestler to ever hold the short-lived WWF Canadian Champion. On March 10, 1993, Bravo was found dead in his apartment by his wife. Bravo was hit by 17 bullets, 7 to the head and 10 to the torso, while he was watching ice hockey in his Vimont, Laval, Quebec home. He had an alleged role in illegal cigarette smuggling in Canada which is what is popularly believed to have led to his unsolved murder.'},\n",
              " {'metadata': {'title': 'Jundallah', 'article_id': '275844'},\n",
              "  'data': \"Jundallah (or Jondallah, translates to Soldiers of God), or People's resistance movement of Iran (PRMI) is a militant organisation based in Balochistan. The organisation claims to be fighting for the rights of Sunni muslims in Iran. Most muslims in Iran are Shi'a, Sunni make up for the largest group that is not Shi'a. Iran says the group is a terrorist organisation. Iran has blamed the organisation for many acts of smuggling illegal drugs, and of kidnapping. The organisation is believed to have 1.000 fighting soldiers. Many observers believe the group is linked to al-Qaeda. For a long time, Iran has believed that the U.S. government supported Jundallah. Several other sources such as the ABC News, Daily Telegraph, and journalist Seymour Hersh have also reported that Jundullah has received support from the United States against the government of Iran, although the US denies any involvement. In August 2007, the Israeli Mossad chief, Meir Dagan, pushed for using ethnic groups (among others, people from Balochistan) in Iran to make the Iranian government weaker and try to change the people in charge of the government.\"},\n",
              " {'metadata': {'title': 'Arms trafficking', 'article_id': '103173'},\n",
              "  'data': 'Arms trafficking or gun-running is smuggling of weapons and ammunition. Arms trafficking happens everywhere but it is a very big problem in places with violent political conflict or civil war. International organizations for human rights, including Amnesty International and Human Rights Watch are looking into fixing this problem.'},\n",
              " {'metadata': {'title': 'Mary Jane Veloso', 'article_id': '501533'},\n",
              "  'data': 'Mary Jane Veloso (born 1984/85) is a Filipino maid. She was arrested and sentenced to death for apparently smuggling 2.6 kg of heroin into Indonesia. She was denied a pardon many times. She also said that she was innocent, and worked in Malaysia and Dubai, United Arab Emirates. Veloso was born in Nueva Ecija, Luzon. She was also once married and has two children.'},\n",
              " {'metadata': {'title': 'United States Revenue Cutter Service',\n",
              "   'article_id': '557058'},\n",
              "  'data': 'The United States Revenue Cutter Service (USRCS) was set up in 1790 when President George Washington signed an act allowing the building of 10 boats. They were designed to collect customs duties and taxes and to protect against smuggling. They were also tasked with making sure shipments of goods from the United States were getting through to markets in other countries. In 1915, President Woodrow Wilson signed the \"Act to Create the Coast Guard\". This designated the United States Coast Guard as a branch of the US military. It was formed by merging the Revenue Cutter Service with the United States Life-Saving Service. Alexander Hamilton, the first Secretary of the Treasury suggested the creation of the Revenue Cutter Service in a letter dated October 2, 1789. After being approved by Congress, the service started with 10 boats called cutters. At the time a cutter was a small fast sailing vessel described as \"a small, decked ship with one mast and bowsprit, with a gaff mainsail on a boom, a square yard and topsail, and two jibs or a jib and a staysail.\" Before the Revenue Cutter Service began, the Continental Navy had been disbanded. Until the United States Navy was formed in 1794, the Revenue Cutter Service was the nation\\'s only naval force. After the American Revolutionary War, the United States was struggling financially. The new country depended on the money it received from import tariffs. Smuggling had been seen as a patriotic duty during the war, but was now a robbing the country of one of its major sources of revenue. Hamilton realized that if something was not done quickly, the country would suffer financially. He suggested that a fleet of 10 cutters could collect revenues and prevent smuggling.'},\n",
              " {'metadata': {'title': 'Smuggling', 'article_id': '395913'},\n",
              "  'data': 'Smuggling means illegal transport of goods, objects substances or information across state, national or international borders. Smugglers do this for various reasons including avoiding tariffs.'},\n",
              " {'metadata': {'title': 'Rum-running', 'article_id': '437836'},\n",
              "  'data': 'Rum-running, or bootlegging, is the illegal business of taking alcoholic beverages where they are against the law. It is usually done to evade taxation or prohibition laws. \"Rum-running\" usually means smuggling over water. The term is thought to come from the start of the Prohibition era in the United States. This is when ships from Bimini in the western Bahamas transported cheap rum to Florida to be sold illegally. But there was little profit in cheap rum. They soon started smuggling Canadian whisky, French champagne, and English gin to major cities like New York City and Boston. This gave them a high profit. It was said that some ships carried $200,000 worth of alcohol in a single trip. \"Bootlegging\" usually means smuggling over land. It is thought the term \"bootlegging\" started during the American Civil War. Soldiers would sneak liquor into army camps by hiding bottles of liquor in their boots or under their trouser legs.'},\n",
              " {'metadata': {'title': 'Black Panther (movie)', 'article_id': '729041'},\n",
              "  'data': 'Black Panther is a 2018 superhero movie set in the Marvel Cinematic Universe and starring Chadwick Boseman as T’challa and Michael B. Jordan as the supervillain Killmonger. Thousands of years ago an asteroid crashes into an African country called Wakanda containing an alien metal called vibranium which absorbs vibrations and is the world’s strongest metal as a result. The tribes of Wakanda went to war for the vibranium but then decided to unite under the leadership of a king called the Black Panther. Only one tribe goes into exile in the mountains of Wakanda so that they do not have to be ruled by the Black Panther. Because of using vibranium to make weapons the Wakandans managed to stop anyone else from ever conquering their country and as a result they became the world’s most technologically advanced nation but kept that a secret from everyone else by creating a giant force field around the country and having no relationship with the outside world. Then in the late 20th century T’chaka, King of Wakanda finds out that his brother who is an undercover spy in the United States is secretly smuggling vibranium to the US to help oppressed black people to overthrow the white man. T’chaka then kills his brother and leaves his body unburied to return to Wakanda. T’chaka’s brother’s son finds his father’s body dead and swears to get revenge. Then in 2018, T’chaka’s son T’challa comes back to Wakanda to become the new king following T’chaka’s murder in the movie . M’baku comes from the mountains and challenges T’challa to a fight to become Black Panther. T’challa wins and convinces M’Baku to surrender so that he doesn’t have to kill him. T’challa’s cousin turns out to have joined the American army and worked as an assassin for the CIA known as Killmonger. He since left the CIA and hired a supervillain named Klaue to help him rob the British Museum of its Wakandan artifacts and then murder everyone there. T’challa finds out that Klaue is in South Korea and goes there as the Black Panther to try and capture him only to find himself fighting the CIA. Klaue is captured by CIA agent Everett Ross with T’challa’s help and Klaue tells Ross that Wakanda is actually a rich country. Klaue escapes with Killmonger’s help and Ross is hurt. T’challa takes Ross to Wakanda so that his doctors can fix him. Killmonger then gets Klaue to take him to Wakanda only to reveal to Klaue that he is actually a Wakandan prince and kills Klaue. He then delivers Klaue’s body to Wakanda in exchange for an audience with T’challa and demand the throne. Killmonger and T’challa fight to the death and Killmonger wins. Killmonger becomes King of Wakanda and then wants to use the Wakandan military to conquer all white people in the world and punish them for their crimes against black people. T’challa’s family reaches out to M’baku and asks him to fight Killmonger. M’baku reveals that T’challa survived the fight without having surrendered and that he rescued an injured T’challa to repay him for having spared his life. T’challa is healed by M’baku and T’challa confronts Killmonger. Killmonger has no plan to fight T’challa since he believes that now that he is king there is no need for violence. T’challa tries to get the throne back by fighting to the death against Killmonger and wins. T’challa then decides to share Wakanda’s technology with the world. The Black Panther movie was generally praised by the critics and was actually nominated for an Oscar.'},\n",
              " {'metadata': {'title': 'Debra Baptist-Estrada', 'article_id': '570320'},\n",
              "  'data': 'Debra Baptist-Estrada is a port commander from Belize. In 2016 she received the International Women of Courage Award. Estrada was Port Commander of Philip S. W. Goldson International Airport, the only international airport in Belize. For 20 years, she worked in the immigration department. In 2015 she helped U.S. officials to find a smuggling organization. The organization was smuggling drugs and people to the United States and Europe. Then she was transferred to the northern border of Belize. She worked as an immigration officer at the Santa Elena Border in Corozal. She continued to refuse bribes and enforce the immigration laws.'},\n",
              " {'metadata': {'title': 'Kolamavu Kokila', 'article_id': '662990'},\n",
              "  'data': 'Kolamavu Kokila () is a 2018 Indian Tamil-language black comedy film, written and directed by Nelson Dilipkumar and produced by Lyca Productions. The film stars Nayanthara in the lead role alongside Yogi Babu and Saranya Ponvannan with Jacqueline playing key role. Anirudh Ravichander composes the film\\'s music. The film, which was also released in Telugu as \"Ko Ko Kokila\", is an unofficial remake of \"We\\'re the Millers\". The film was released on 17 August 2018. Kokila is a timid girl who is struggling to find a job. To make matters worse, her mother is diagnosed with stage two lung cancer. Desperate, Kokila eventually works for a local drug smuggler Mohan in order to finance her mother\\'s treatment. However, she becomes worried after an honest police inspector is transferred to the area and starts to investigate Mohan\\'s underground businesses. Mohan attempts to rape her, but she brutally beats him up before escaping. Mohan\\'s boss, Bhai from Mumbai, blackmails Kokila to continue his drug smuggling or else her entire family will be killed. With the help of her neighbours Sekar and Lakshman Kumar, who are in love with her and her sister respectively, Kokila\\'s family smuggles the remaining drugs across the city to Alphonse, Bhai\\'s biggest client. The rest of the story is about how Kokila and her family escape the mafia. In July 2017, Lyca Productions announced that they would be making a film starring Nayanthara in the lead role, which would be directed by Nelson Dilipkumar. Nelson had previously worked as a creative director with the television channel Star Vijay, as well as completing half the shoot of a project titled \"Vettai Mannan\" starring Silambarasan, Deeksha Seth and Hansika Motwani, which ran into production trouble. Described as a \"dark comedy\", the makers held discussions with Saranya Ponvannan and Yogi Babu in July 2017 to cast them in key roles. Anirudh Ravichander was signed up to compose the film\\'s score and soundtrack.'},\n",
              " {'metadata': {'title': 'Raed al Atar', 'article_id': '460442'},\n",
              "  'data': 'Raed al Atar (1974 – 21 August 2014) was a Palestinian military personal. He was the commander of the Rafah company of the Hamas Izz ad-Din al-Qassam Brigades. He was also a member of the Hamas high military council. According to the Congressional Research Service analyst Jim Zanotti, his command was important due to Rafah being the destination point for the smuggling tunnels from Egypt. al Atar was born in Gaza. Al Atar was killed in Rafah, Gaza on 21 August 2014 in a missiles strike by the Israeli army.'},\n",
              " {'metadata': {'title': 'Andrew Chan', 'article_id': '477332'},\n",
              "  'data': 'Andrew Chan (12 January 1984 – 29 April 2015) was an Australian citizen convicted and executed in Indonesia for drug smuggling. Chan was born in Sydney, New South Wales on 12 January 1984. He was the son of Cantonese-speaking Chinese immigrants. He was convicted in Indonesia for drug trafficking as a member of the Bali Nine. In 2005, he was arrested at Ngurah Rai International Airport in Denpasar, Bali. Chan and Myuran Sukumaran were believed to have arranged the heroin smuggling operation. After a criminal trial on 14 February 2006, Chan was sentenced to execution by firing squad. While in prison, Chan converted to Christianity. On 16 January 2015, Chan and Sukumaran were ordered to be executed after nine years in jail. On 6 February 2015, the government said that this would take place at the end of the month.'},\n",
              " {'metadata': {'title': 'Myuran Sukumaran', 'article_id': '477333'},\n",
              "  'data': \"Myuran Sukumaran (; 17 April 1981 – 29 April 2015) was an Australian citizen who was executed in Indonesia for drug trafficking as a member of the Bali Nine. He was born in London, England. His parents were Sri Lankan immigrants. He moved to Australia at a young age. In 2005, Sukumaran was arrested at Ngurah Rai International Airport in Denpasar, Bali. Sukumaran and Andrew Chan were the apparent co-ringleaders of the heroin smuggling operation. After a criminal trial on 14 February 2006, Sukumaran was sentenced to execution by firing squad. On 30 December 2014, Sukumaran's request for was rejected by the President of Indonesia, Joko Widodo. Sukumaran and Chan were in prison at Nusakambangan Island in isolation cells. On 16 January 2015, Sukumaran and Chan were ordered to be executed after nine years in jail. On 6 February 2015, it was stated that Chan and Sukumaran would be executed by the end of the month. On 11 February 2015, Indonesian authorities approved the move of Chan and Sukumaran from Kerobokan prison to Nusakambangan Island in preparation for execution. On 24 February 2015, a final appeal to save Chan and Sukumaran from execution, with their lawyers appeal bid to challenge President Widodo's refusal to grant clemency, failed. The move from Kerobokan prison to Nusakambangan Island was on 4 March. On 6 April 2015, Chan and Sukumaran's lawyers faced the state administrative court to challenge President Joko Widodo's refusal to grant clemency, in a final attempt to stop the executions. This was also unsuccessful. On 24 April 2015, prosecutors ordered the final preparations for the execution of Chan and Sukumaran, as well as eight others on death row. On 25 April (ANZAC Day), the pair, along with 7 other death row prisoners, were given a 72-hour notice of their executions.\"},\n",
              " {'metadata': {'title': 'Raid at Cabanatuan', 'article_id': '530486'},\n",
              "  'data': 'The Raid at Cabanatuan, also known as The Great Raid, was a rescue of Allied prisoners of war (POWs) and civilians from a Japanese prisoner of war camp near Cabanatuan City, in the Philippines. With the landing and advance of General Douglas MacArthur in late 1944, it was feared the Japanese would move the prisoners to Japan or kill them. On January 30, 1945, during World War II, United States Army Rangers, Alamo Scouts, and Filipino guerrillas liberated 511 prisoners from the camp. The daring raid is still studied by Army Rangers today as a classic example. After the Attack on Pearl Harbor by the Empire of Japan on December 7, 1941, the United States declared war on Japan and its allies. At the same time the Japanese also attacked the American bases at Guam, Wake Island and the Philippines. While Guam and Wake Island soon fell, Filipino and U.S. forces resisted in the Philippines until early May 1942. By this time, the Japanese controlled nearly all of Southeast Asia. The Bataan peninsula and the island of Corregidor were the only remaining Allied strongholds in the region. On April 9, 1942 about 11,800 American, 66,000 Filipino and 1,000 Chinese-Filipinos surrendered to the Japanese. They were starving, sick and fatigued, yet were forced to march 60 miles (97 km) with many dying along the way. This was the infamous Bataan Death March. Many also escaped and joined guerrilla forces hiding in the mountains. About 79,000 survived and were imprisoned at Camp O\\'Donnell. The American and Filipino forces on Island of Corregidor surrendered on May 6, 1942. The approximately 79,000 forces captured on Corregidor were not a part of the Death March. They were loaded onto cargo ships and taken to Manila. There they were marched through the streets as a celebration of the Japanese victory. They were then sent to Cabanatuan camp number 1 near Cabanatuan city. They were joined by other American prisoners from Camp O\\'Donnell. By January of 1945, after nearly three years at the camp, nearly 3,000 prisoners had died. The camp measured about by and was enclosed by 3 barbed wire fences, each high. There were guard towers outside the fence. The prisoners were kept in 8 barracks originally designed to house 40 soldiers, but were used to hold 120 prisoners each. Conditions at the camp in 1942 were terrible with mosquitoes that carried malaria and flies that spreading dysentery. Many prisoners were murdered by the guards. Local Filipinos smuggled in food and money to bribe the guards. But by 1944 the conditions became worse. The Japanese cut rations and cut down on the smuggling of food to prisoners. They started sending prisoners to camps in Japan and Manchuria in \"hellships\". By early 1945 just over 500 prisoners were left in Cabanatuan number 1 camp.'}]"
            ]
          },
          "metadata": {},
          "execution_count": 137
        }
      ]
    },
    {
      "cell_type": "code",
      "source": [
        "docs = [Document(page_content=doc['data'],\n",
        "                 metadata=doc['metadata']) for doc in docs]"
      ],
      "metadata": {
        "id": "fSNaJN989kIU"
      },
      "execution_count": 138,
      "outputs": []
    },
    {
      "cell_type": "code",
      "source": [
        "docs[:5]"
      ],
      "metadata": {
        "colab": {
          "base_uri": "https://localhost:8080/"
        },
        "id": "8lWe0PsH99jp",
        "outputId": "48d6e4f2-ffed-4bbb-cefb-940530533adc"
      },
      "execution_count": 139,
      "outputs": [
        {
          "output_type": "execute_result",
          "data": {
            "text/plain": [
              "[Document(metadata={'title': 'Jihad Ahmed Jibril', 'article_id': '55144'}, page_content='Mohammed Jihad Ahmed Jibril (March 3, 1961 in Damascus - May 20, 2002 in Beirut) was the son of Ahmed Jibril, founder of the Popular Front for the Liberation of Palestine-General Command (PFLP-GC). He was killed by a car bomb. He was assassinated on May 20, 2002. Jihad Ahmed Jibril was the leader of the military wing of the PFLP-GC and was the heir apparent of the organization before he was killed in a car bombing in Beirut in 2002. The assassination was blamed on Israel, although Jibril had many other enemies, including the Lebanese Christian militia and other Palestinian nationalist organizations. Ahmed Jibril was co-leader of the militant Popular Front for the Liberation of Palestine-General Command. Israeli radio reports said that the son, Jihad Ahmed Jibril, was involved in smuggling arms and explosives to Palestinian militants in the West Bank and Gaza Strip.'),\n",
              " Document(metadata={'title': 'Crime in Russia', 'article_id': '100715'}, page_content=\"Crime in Russia has many different types. Organized crimes include drug trafficking, money laundering, human trafficking, extortion, murder for hire, and fraud. Many criminal operations take part in corruption, black marketeering, terrorism and abduction. Other forms of crime done by criminal groups are arms trafficking, export of contraband oil and metals, and smuggling of radioactive materials. Crime rate in Russia sharply increased since the late 1980s. The fall of communism in Eastern Europe had tremendous influence on the political economy of organized crime. Approximately 8,000 criminal groups are in the country. Almost 50% of the nation's economy is connected to organized crime. Drug trafficking and illegal drug use is a big problem in the nation. The disintegration of the Soviet Union, the civil war in Afghanistan, the civil war in Tajikistan, and the conflicts in the North Caucasus have made the favorable conditions for the development of illegal drug trade. But measures have been taken to fight drug trafficking. Russia is a party of the 1988 United Nations Convention Against Illicit Traffic in Narcotic Drugs and Psychotropic Substances. In March 2003, Russian President Vladimir Putin established the Russian State Committee for Control over the Illegal Trafficking of Narcotics and Psychotropic Substances for combating drug trafficking with more coordinated manner.\"),\n",
              " Document(metadata={'title': 'BioShock', 'article_id': '121614'}, page_content='BioShock is a first person shooter/survival horror video game made by 2K Games for the Xbox 360, Windows, PlayStation 3, and Nintendo Switch video game consoles. It got very good reviews and sold very well. The game\\'s story is about a man who is in a plane crash in the Atlantic Ocean and finds a lighthouse in the middle of the sea, which takes him to an underwater city created by a man named Andrew Ryan called Rapture, which is home to many violent creatures called Splicers, who are people became insane because of mutation. \"BioShock\" is set during 1960, in Rapture, a fictional underwater city. The player learns about Rapture by listening to voice recordings. Rapture was created by a man called Andrew Ryan, who did not like the political, economic, and religious powers that existed over land. He wanted Rapture to be a place where people could do and become whatever they wanted. The city was secretly built in 1946 on a mid-Atlantic seabed, using submarine volcanoes to give geothermal power. Scientific progress grew in Rapture because there were no governments or religious organizations that could put limits on research. This was how Ryan brought many brilliant scientists into the city. This led to fast developments in engineering and biotechnology. These scientists also discovered ADAM, stem cells harvested from an unknown species of sea slug, which were discovered by Dr. Bridgette Tenenbaum to have the ability to heal damaged tissue and rewrite the human genome. Tenenbaum joined with businessman and mobster Frank Fontaine to create the plasmid industry, which offered superhuman physical enhancements to its customers. Tenenbaum found that ADAM could be mass-produced by implanting the slugs in the stomachs of young girls (\"Little Sisters\"), taken from orphanages founded by Fontaine. As time passed, the gap between rich and poor increased. Frank Fontaine created charity organizations to support the underclass. His goal was to use his charity organizations to manipulate the poor. He also made a smuggling operation to supply citizens with forbidden items from the surface, such as religious material. These, along with his control of the plasmid industry, made him immensely powerful. He tried to overthrow Ryan, but the revolt was violently crushed and Fontaine was said to be dead. Ryan seized control of Fontaine\\'s plasmid business. Within a few months, a new figure named Atlas rose as the leader of the disgruntled lower class. On New Year\\'s Eve of 1959, Atlas and his ADAM-infused followers began a new revolt against Ryan that spread throughout Rapture. Ryan in turn began splicing his own forces, and his paranoia had reached such a level he was hanging dozens of people, mostly innocent, in Rapture\\'s main square. In order to solve ADAM shortages, the Little Sisters were mentally conditioned to wander the city and extract ADAM from the dead, recycling it into raw ADAM in their stomachs after swallowing it. \"Big Daddies\", enhanced and mentally sterilized humans in armored diving suits, were created by Dr. Suchong, the scientist behind many plasmids, to protect the Little Sisters in their work.'),\n",
              " Document(metadata={'title': 'United States Coast Guard', 'article_id': '58177'}, page_content=\"The United States Coast Guard is one of the 5 branches of the military of the United States. It is a part of the United States Department of Homeland Security. The Coast Guard's purpose is to protect the people, environment, industry and security of the United States on seas, lakes and rivers. To do this, the Coast Guard uses boats, ships, helicopters and airplanes to stop smuggling and other crime and terrorism, and to rescue ships and boats in danger. The Coast Guard traces its roots back to the United States Revenue Cutter Service, which was created by Congress on 4 August 1790. As such, the Coast Guard is the oldest continuous seagoing service of the United States. The modern United States Coast Guard was started on January 28, 1915. This is when the U. S. Congress ordered the United States Revenue Cutter Service and the United States Life-Saving Service to merge into a single service. The Coast Guard can become part of the Department of the Navy during war, but it is not now. It became part of the U.S. Department of Homeland Security in 2003.\"),\n",
              " Document(metadata={'title': 'Beer (Devon)', 'article_id': '12229'}, page_content=\"Beer is the name of a village in Devon, South West England. It is famous for underground quarries started by the Romans which have supplied stone for many of England's Historic buildings. Fishing was also a large industry with smuggling connections and the ladies of Beer made the lace for Queen Victoria's wedding dress.\")]"
            ]
          },
          "metadata": {},
          "execution_count": 139
        }
      ]
    },
    {
      "cell_type": "code",
      "source": [
        "splitter = RecursiveCharacterTextSplitter(chunk_size=2000, chunk_overlap=300)\n",
        "chunked_docs = splitter.split_documents(docs)\n",
        "chunked_docs[:3]"
      ],
      "metadata": {
        "colab": {
          "base_uri": "https://localhost:8080/"
        },
        "id": "Z9qYXmRb9-M2",
        "outputId": "869e81da-9b03-4423-fe6b-9d0a3892dcf4"
      },
      "execution_count": 140,
      "outputs": [
        {
          "output_type": "execute_result",
          "data": {
            "text/plain": [
              "[Document(metadata={'title': 'Jihad Ahmed Jibril', 'article_id': '55144'}, page_content='Mohammed Jihad Ahmed Jibril (March 3, 1961 in Damascus - May 20, 2002 in Beirut) was the son of Ahmed Jibril, founder of the Popular Front for the Liberation of Palestine-General Command (PFLP-GC). He was killed by a car bomb. He was assassinated on May 20, 2002. Jihad Ahmed Jibril was the leader of the military wing of the PFLP-GC and was the heir apparent of the organization before he was killed in a car bombing in Beirut in 2002. The assassination was blamed on Israel, although Jibril had many other enemies, including the Lebanese Christian militia and other Palestinian nationalist organizations. Ahmed Jibril was co-leader of the militant Popular Front for the Liberation of Palestine-General Command. Israeli radio reports said that the son, Jihad Ahmed Jibril, was involved in smuggling arms and explosives to Palestinian militants in the West Bank and Gaza Strip.'),\n",
              " Document(metadata={'title': 'Crime in Russia', 'article_id': '100715'}, page_content=\"Crime in Russia has many different types. Organized crimes include drug trafficking, money laundering, human trafficking, extortion, murder for hire, and fraud. Many criminal operations take part in corruption, black marketeering, terrorism and abduction. Other forms of crime done by criminal groups are arms trafficking, export of contraband oil and metals, and smuggling of radioactive materials. Crime rate in Russia sharply increased since the late 1980s. The fall of communism in Eastern Europe had tremendous influence on the political economy of organized crime. Approximately 8,000 criminal groups are in the country. Almost 50% of the nation's economy is connected to organized crime. Drug trafficking and illegal drug use is a big problem in the nation. The disintegration of the Soviet Union, the civil war in Afghanistan, the civil war in Tajikistan, and the conflicts in the North Caucasus have made the favorable conditions for the development of illegal drug trade. But measures have been taken to fight drug trafficking. Russia is a party of the 1988 United Nations Convention Against Illicit Traffic in Narcotic Drugs and Psychotropic Substances. In March 2003, Russian President Vladimir Putin established the Russian State Committee for Control over the Illegal Trafficking of Narcotics and Psychotropic Substances for combating drug trafficking with more coordinated manner.\"),\n",
              " Document(metadata={'title': 'BioShock', 'article_id': '121614'}, page_content='BioShock is a first person shooter/survival horror video game made by 2K Games for the Xbox 360, Windows, PlayStation 3, and Nintendo Switch video game consoles. It got very good reviews and sold very well. The game\\'s story is about a man who is in a plane crash in the Atlantic Ocean and finds a lighthouse in the middle of the sea, which takes him to an underwater city created by a man named Andrew Ryan called Rapture, which is home to many violent creatures called Splicers, who are people became insane because of mutation. \"BioShock\" is set during 1960, in Rapture, a fictional underwater city. The player learns about Rapture by listening to voice recordings. Rapture was created by a man called Andrew Ryan, who did not like the political, economic, and religious powers that existed over land. He wanted Rapture to be a place where people could do and become whatever they wanted. The city was secretly built in 1946 on a mid-Atlantic seabed, using submarine volcanoes to give geothermal power. Scientific progress grew in Rapture because there were no governments or religious organizations that could put limits on research. This was how Ryan brought many brilliant scientists into the city. This led to fast developments in engineering and biotechnology. These scientists also discovered ADAM, stem cells harvested from an unknown species of sea slug, which were discovered by Dr. Bridgette Tenenbaum to have the ability to heal damaged tissue and rewrite the human genome. Tenenbaum joined with businessman and mobster Frank Fontaine to create the plasmid industry, which offered superhuman physical enhancements to its customers. Tenenbaum found that ADAM could be mass-produced by implanting the slugs in the stomachs of young girls (\"Little Sisters\"), taken from orphanages founded by Fontaine. As time passed, the gap between rich and poor increased. Frank Fontaine created charity organizations to support the underclass. His goal was to use his charity organizations to manipulate')]"
            ]
          },
          "metadata": {},
          "execution_count": 140
        }
      ]
    },
    {
      "cell_type": "code",
      "source": [
        "from langchain_chroma import Chroma\n",
        "# create vector DB of docs and embeddings - takes < 30s on Colab\n",
        "chroma_db = Chroma.from_documents(documents=chunked_docs,\n",
        "                                  collection_name='rag_wikipedia_smuggling',\n",
        "                                  embedding=openai_embed_model,\n",
        "# need to set the distance function to cosine else it uses Euclidean by default\n",
        "# check https://docs.trychroma.com/guides#changing-the-distance-function\n",
        "                                  collection_metadata={\"hnsw:space\": \"cosine\"},\n",
        "                                  persist_directory=\"./wikipedia_db_smug\")"
      ],
      "metadata": {
        "id": "O9kWcMn2-V4-"
      },
      "execution_count": 144,
      "outputs": []
    },
    {
      "cell_type": "code",
      "source": [
        "similarity_threshold_retriever = chroma_db.as_retriever(search_type=\"similarity_score_threshold\",\n",
        "                       search_kwargs={\"k\": 5,\n",
        "                       \"score_threshold\": 0.3})"
      ],
      "metadata": {
        "id": "4TYXoazyT9Ba"
      },
      "execution_count": 150,
      "outputs": []
    },
    {
      "cell_type": "code",
      "source": [
        "# We can then test if our retriever is working on some sample queries.\n",
        "query = \"What is smuggling, and why do people engage in it?\"\n",
        "top3_docs = similarity_threshold_retriever.invoke(query)\n",
        "[doc.page_content for doc in top3_docs]"
      ],
      "metadata": {
        "colab": {
          "base_uri": "https://localhost:8080/"
        },
        "id": "BU6jhA8iUK4E",
        "outputId": "21925b3e-6f77-48a8-9219-6566445152b4"
      },
      "execution_count": 296,
      "outputs": [
        {
          "output_type": "execute_result",
          "data": {
            "text/plain": [
              "['Smuggling means illegal transport of goods, objects substances or information across state, national or international borders. Smugglers do this for various reasons including avoiding tariffs.',\n",
              " 'Arms trafficking or gun-running is smuggling of weapons and ammunition. Arms trafficking happens everywhere but it is a very big problem in places with violent political conflict or civil war. International organizations for human rights, including Amnesty International and Human Rights Watch are looking into fixing this problem.',\n",
              " 'Rum-running, or bootlegging, is the illegal business of taking alcoholic beverages where they are against the law. It is usually done to evade taxation or prohibition laws. \"Rum-running\" usually means smuggling over water. The term is thought to come from the start of the Prohibition era in the United States. This is when ships from Bimini in the western Bahamas transported cheap rum to Florida to be sold illegally. But there was little profit in cheap rum. They soon started smuggling Canadian whisky, French champagne, and English gin to major cities like New York City and Boston. This gave them a high profit. It was said that some ships carried $200,000 worth of alcohol in a single trip. \"Bootlegging\" usually means smuggling over land. It is thought the term \"bootlegging\" started during the American Civil War. Soldiers would sneak liquor into army camps by hiding bottles of liquor in their boots or under their trouser legs.',\n",
              " \"Crime in Russia has many different types. Organized crimes include drug trafficking, money laundering, human trafficking, extortion, murder for hire, and fraud. Many criminal operations take part in corruption, black marketeering, terrorism and abduction. Other forms of crime done by criminal groups are arms trafficking, export of contraband oil and metals, and smuggling of radioactive materials. Crime rate in Russia sharply increased since the late 1980s. The fall of communism in Eastern Europe had tremendous influence on the political economy of organized crime. Approximately 8,000 criminal groups are in the country. Almost 50% of the nation's economy is connected to organized crime. Drug trafficking and illegal drug use is a big problem in the nation. The disintegration of the Soviet Union, the civil war in Afghanistan, the civil war in Tajikistan, and the conflicts in the North Caucasus have made the favorable conditions for the development of illegal drug trade. But measures have been taken to fight drug trafficking. Russia is a party of the 1988 United Nations Convention Against Illicit Traffic in Narcotic Drugs and Psychotropic Substances. In March 2003, Russian President Vladimir Putin established the Russian State Committee for Control over the Illegal Trafficking of Narcotics and Psychotropic Substances for combating drug trafficking with more coordinated manner.\"]"
            ]
          },
          "metadata": {},
          "execution_count": 296
        }
      ]
    },
    {
      "cell_type": "code",
      "source": [
        "from langchain_core.prompts import ChatPromptTemplate\n",
        "from langchain_core.pydantic_v1 import BaseModel, Field\n",
        "from langchain_openai import ChatOpenAI\n",
        "# Data model for LLM output format\n",
        "class GradeDocuments(BaseModel):\n",
        "    # \"\"\"Binary score for relevance check on retrieved documents.\"\"\"\n",
        "    binary_score: str = Field(\n",
        "        # description=\"Documents are relevant to the question, 'yes' or 'no'\"\n",
        "    )\n",
        "# LLM for grading\n",
        "llm = ChatOpenAI(model=\"gpt-4o\", temperature=0)\n",
        "structured_llm_grader = llm.with_structured_output(GradeDocuments)\n",
        "# Prompt template for grading\n",
        "SYS_PROMPT = \"\"\"You are an expert grader assessing relevance of a retrieved document to a user question.\n",
        "                Follow these instructions for grading:\n",
        "                  - If the document contains keyword(s) or semantic meaning related to the question, grade it as relevant.\n",
        "                  - Your grade should be either 'yes' or 'no' to indicate whether the document is relevant to the question or not.\"\"\"\n",
        "\n",
        "grade_prompt = ChatPromptTemplate.from_messages(\n",
        "    [\n",
        "        (\"system\", SYS_PROMPT),\n",
        "        (\"human\", \"\"\"Retrieved document:\n",
        "                     {document}\n",
        "                     User question:\n",
        "                     {question}\n",
        "                  \"\"\"),\n",
        "    ]\n",
        ")\n",
        "\n",
        "crude_response = grade_prompt | llm"
      ],
      "metadata": {
        "id": "OMc7W97TUNFq"
      },
      "execution_count": 164,
      "outputs": []
    },
    {
      "cell_type": "code",
      "source": [
        "for doc in top3_docs:\n",
        "    print(doc.page_content)\n",
        "    print('GRADE:', crude_response.invoke({\"question\": query,\n",
        "                                       \"document\": doc.page_content}))"
      ],
      "metadata": {
        "colab": {
          "base_uri": "https://localhost:8080/"
        },
        "id": "xkxPrY53Hra_",
        "outputId": "f316135b-047d-4543-a152-100637bca342"
      },
      "execution_count": 165,
      "outputs": [
        {
          "output_type": "stream",
          "name": "stdout",
          "text": [
            "Smuggling means illegal transport of goods, objects substances or information across state, national or international borders. Smugglers do this for various reasons including avoiding tariffs.\n",
            "GRADE: content='yes' additional_kwargs={'refusal': None} response_metadata={'token_usage': {'completion_tokens': 2, 'prompt_tokens': 139, 'total_tokens': 141, 'completion_tokens_details': {'accepted_prediction_tokens': 0, 'audio_tokens': 0, 'reasoning_tokens': 0, 'rejected_prediction_tokens': 0}, 'prompt_tokens_details': {'audio_tokens': 0, 'cached_tokens': 0}}, 'model_name': 'gpt-4o-2024-08-06', 'system_fingerprint': 'fp_d28bcae782', 'finish_reason': 'stop', 'logprobs': None} id='run-c9871944-8ff5-4758-8eac-44682091a294-0' usage_metadata={'input_tokens': 139, 'output_tokens': 2, 'total_tokens': 141, 'input_token_details': {'audio': 0, 'cache_read': 0}, 'output_token_details': {'audio': 0, 'reasoning': 0}}\n",
            "Arms trafficking or gun-running is smuggling of weapons and ammunition. Arms trafficking happens everywhere but it is a very big problem in places with violent political conflict or civil war. International organizations for human rights, including Amnesty International and Human Rights Watch are looking into fixing this problem.\n",
            "GRADE: content='yes' additional_kwargs={'refusal': None} response_metadata={'token_usage': {'completion_tokens': 2, 'prompt_tokens': 160, 'total_tokens': 162, 'completion_tokens_details': {'accepted_prediction_tokens': 0, 'audio_tokens': 0, 'reasoning_tokens': 0, 'rejected_prediction_tokens': 0}, 'prompt_tokens_details': {'audio_tokens': 0, 'cached_tokens': 0}}, 'model_name': 'gpt-4o-2024-08-06', 'system_fingerprint': 'fp_d28bcae782', 'finish_reason': 'stop', 'logprobs': None} id='run-4f8ca910-6bca-4c7a-a78f-eac071f6188a-0' usage_metadata={'input_tokens': 160, 'output_tokens': 2, 'total_tokens': 162, 'input_token_details': {'audio': 0, 'cache_read': 0}, 'output_token_details': {'audio': 0, 'reasoning': 0}}\n",
            "Rum-running, or bootlegging, is the illegal business of taking alcoholic beverages where they are against the law. It is usually done to evade taxation or prohibition laws. \"Rum-running\" usually means smuggling over water. The term is thought to come from the start of the Prohibition era in the United States. This is when ships from Bimini in the western Bahamas transported cheap rum to Florida to be sold illegally. But there was little profit in cheap rum. They soon started smuggling Canadian whisky, French champagne, and English gin to major cities like New York City and Boston. This gave them a high profit. It was said that some ships carried $200,000 worth of alcohol in a single trip. \"Bootlegging\" usually means smuggling over land. It is thought the term \"bootlegging\" started during the American Civil War. Soldiers would sneak liquor into army camps by hiding bottles of liquor in their boots or under their trouser legs.\n",
            "GRADE: content='yes' additional_kwargs={'refusal': None} response_metadata={'token_usage': {'completion_tokens': 2, 'prompt_tokens': 298, 'total_tokens': 300, 'completion_tokens_details': {'accepted_prediction_tokens': 0, 'audio_tokens': 0, 'reasoning_tokens': 0, 'rejected_prediction_tokens': 0}, 'prompt_tokens_details': {'audio_tokens': 0, 'cached_tokens': 0}}, 'model_name': 'gpt-4o-2024-08-06', 'system_fingerprint': 'fp_5f20662549', 'finish_reason': 'stop', 'logprobs': None} id='run-bf1b6ff2-6be9-47b7-9a5a-bdbe80b6d969-0' usage_metadata={'input_tokens': 298, 'output_tokens': 2, 'total_tokens': 300, 'input_token_details': {'audio': 0, 'cache_read': 0}, 'output_token_details': {'audio': 0, 'reasoning': 0}}\n",
            "Crime in Russia has many different types. Organized crimes include drug trafficking, money laundering, human trafficking, extortion, murder for hire, and fraud. Many criminal operations take part in corruption, black marketeering, terrorism and abduction. Other forms of crime done by criminal groups are arms trafficking, export of contraband oil and metals, and smuggling of radioactive materials. Crime rate in Russia sharply increased since the late 1980s. The fall of communism in Eastern Europe had tremendous influence on the political economy of organized crime. Approximately 8,000 criminal groups are in the country. Almost 50% of the nation's economy is connected to organized crime. Drug trafficking and illegal drug use is a big problem in the nation. The disintegration of the Soviet Union, the civil war in Afghanistan, the civil war in Tajikistan, and the conflicts in the North Caucasus have made the favorable conditions for the development of illegal drug trade. But measures have been taken to fight drug trafficking. Russia is a party of the 1988 United Nations Convention Against Illicit Traffic in Narcotic Drugs and Psychotropic Substances. In March 2003, Russian President Vladimir Putin established the Russian State Committee for Control over the Illegal Trafficking of Narcotics and Psychotropic Substances for combating drug trafficking with more coordinated manner.\n",
            "GRADE: content='no' additional_kwargs={'refusal': None} response_metadata={'token_usage': {'completion_tokens': 2, 'prompt_tokens': 373, 'total_tokens': 375, 'completion_tokens_details': {'accepted_prediction_tokens': 0, 'audio_tokens': 0, 'reasoning_tokens': 0, 'rejected_prediction_tokens': 0}, 'prompt_tokens_details': {'audio_tokens': 0, 'cached_tokens': 0}}, 'model_name': 'gpt-4o-2024-08-06', 'system_fingerprint': 'fp_d28bcae782', 'finish_reason': 'stop', 'logprobs': None} id='run-4c43befc-f343-47da-be97-e703326b51b2-0' usage_metadata={'input_tokens': 373, 'output_tokens': 2, 'total_tokens': 375, 'input_token_details': {'audio': 0, 'cache_read': 0}, 'output_token_details': {'audio': 0, 'reasoning': 0}}\n"
          ]
        }
      ]
    },
    {
      "cell_type": "code",
      "source": [
        "# Build grader chain\n",
        "doc_grader = (grade_prompt\n",
        "                  |\n",
        "              structured_llm_grader)"
      ],
      "metadata": {
        "id": "D56Jf25gHpqj"
      },
      "execution_count": null,
      "outputs": []
    },
    {
      "cell_type": "code",
      "source": [
        "query = \"What is smuggling, and why do people engage in it?\"\n",
        "top3_docs = similarity_threshold_retriever.invoke(query)\n",
        "# Storing the responses in a dictionary\n",
        "structured_responses = {'content': [], 'score': []}\n",
        "for doc in top3_docs:\n",
        "    print(doc.page_content)\n",
        "\n",
        "    structured_responses['content'].append(doc.page_content)\n",
        "    structured_responses['score'].append(doc_grader.invoke({\"question\": query,\"document\": doc.page_content}).binary_score)\n",
        "\n",
        "    print('GRADE:', doc_grader.invoke({\"question\": query,\n",
        "                                       \"document\": doc.page_content}))\n",
        "    print()"
      ],
      "metadata": {
        "colab": {
          "base_uri": "https://localhost:8080/"
        },
        "id": "6V0cO8JtUh6M",
        "outputId": "7e834715-457f-4a2c-d3ac-3c6a328a8a70"
      },
      "execution_count": 179,
      "outputs": [
        {
          "output_type": "stream",
          "name": "stdout",
          "text": [
            "Smuggling means illegal transport of goods, objects substances or information across state, national or international borders. Smugglers do this for various reasons including avoiding tariffs.\n",
            "GRADE: binary_score='yes'\n",
            "\n",
            "Arms trafficking or gun-running is smuggling of weapons and ammunition. Arms trafficking happens everywhere but it is a very big problem in places with violent political conflict or civil war. International organizations for human rights, including Amnesty International and Human Rights Watch are looking into fixing this problem.\n",
            "GRADE: binary_score='yes'\n",
            "\n",
            "Rum-running, or bootlegging, is the illegal business of taking alcoholic beverages where they are against the law. It is usually done to evade taxation or prohibition laws. \"Rum-running\" usually means smuggling over water. The term is thought to come from the start of the Prohibition era in the United States. This is when ships from Bimini in the western Bahamas transported cheap rum to Florida to be sold illegally. But there was little profit in cheap rum. They soon started smuggling Canadian whisky, French champagne, and English gin to major cities like New York City and Boston. This gave them a high profit. It was said that some ships carried $200,000 worth of alcohol in a single trip. \"Bootlegging\" usually means smuggling over land. It is thought the term \"bootlegging\" started during the American Civil War. Soldiers would sneak liquor into army camps by hiding bottles of liquor in their boots or under their trouser legs.\n",
            "GRADE: binary_score='yes'\n",
            "\n",
            "Crime in Russia has many different types. Organized crimes include drug trafficking, money laundering, human trafficking, extortion, murder for hire, and fraud. Many criminal operations take part in corruption, black marketeering, terrorism and abduction. Other forms of crime done by criminal groups are arms trafficking, export of contraband oil and metals, and smuggling of radioactive materials. Crime rate in Russia sharply increased since the late 1980s. The fall of communism in Eastern Europe had tremendous influence on the political economy of organized crime. Approximately 8,000 criminal groups are in the country. Almost 50% of the nation's economy is connected to organized crime. Drug trafficking and illegal drug use is a big problem in the nation. The disintegration of the Soviet Union, the civil war in Afghanistan, the civil war in Tajikistan, and the conflicts in the North Caucasus have made the favorable conditions for the development of illegal drug trade. But measures have been taken to fight drug trafficking. Russia is a party of the 1988 United Nations Convention Against Illicit Traffic in Narcotic Drugs and Psychotropic Substances. In March 2003, Russian President Vladimir Putin established the Russian State Committee for Control over the Illegal Trafficking of Narcotics and Psychotropic Substances for combating drug trafficking with more coordinated manner.\n",
            "GRADE: binary_score='no'\n",
            "\n"
          ]
        }
      ]
    },
    {
      "cell_type": "code",
      "source": [
        "filtered_responses = {key: [val for i, val in enumerate(structured_responses[key]) if structured_responses['score'][i] == 'yes'] for key in structured_responses}\n",
        "filtered_responses['content']"
      ],
      "metadata": {
        "id": "3t_1fFbb-bm2",
        "colab": {
          "base_uri": "https://localhost:8080/"
        },
        "outputId": "1cbf1f5c-36b6-46c0-e9f9-bc5c4dd04bb4"
      },
      "execution_count": 191,
      "outputs": [
        {
          "output_type": "execute_result",
          "data": {
            "text/plain": [
              "['Smuggling means illegal transport of goods, objects substances or information across state, national or international borders. Smugglers do this for various reasons including avoiding tariffs.',\n",
              " 'Arms trafficking or gun-running is smuggling of weapons and ammunition. Arms trafficking happens everywhere but it is a very big problem in places with violent political conflict or civil war. International organizations for human rights, including Amnesty International and Human Rights Watch are looking into fixing this problem.',\n",
              " 'Rum-running, or bootlegging, is the illegal business of taking alcoholic beverages where they are against the law. It is usually done to evade taxation or prohibition laws. \"Rum-running\" usually means smuggling over water. The term is thought to come from the start of the Prohibition era in the United States. This is when ships from Bimini in the western Bahamas transported cheap rum to Florida to be sold illegally. But there was little profit in cheap rum. They soon started smuggling Canadian whisky, French champagne, and English gin to major cities like New York City and Boston. This gave them a high profit. It was said that some ships carried $200,000 worth of alcohol in a single trip. \"Bootlegging\" usually means smuggling over land. It is thought the term \"bootlegging\" started during the American Civil War. Soldiers would sneak liquor into army camps by hiding bottles of liquor in their boots or under their trouser legs.']"
            ]
          },
          "metadata": {},
          "execution_count": 191
        }
      ]
    },
    {
      "cell_type": "code",
      "source": [
        "from langchain_core.prompts import ChatPromptTemplate\n",
        "from langchain_openai import ChatOpenAI\n",
        "from langchain_core.runnables import RunnablePassthrough, RunnableLambda\n",
        "from langchain_core.output_parsers import StrOutputParser\n",
        "from operator import itemgetter\n",
        "# Create RAG prompt for response generation\n",
        "prompt = \"\"\"You are an assistant for question-answering tasks.\n",
        "            Use the following pieces of retrieved context to answer the question.\n",
        "            If no context is present or if you don't know the answer, just say that you don't know the answer.\n",
        "            Do not make up the answer unless it is there in the provided context.\n",
        "            Give a detailed answer and to the point answer with regard to the question.\n",
        "            Question:\n",
        "            {question}\n",
        "            Context:\n",
        "            {context}\n",
        "            Answer:\n",
        "         \"\"\"\n",
        "prompt_template = ChatPromptTemplate.from_template(prompt)\n",
        "# Initialize connection with GPT-4o\n",
        "chatgpt = ChatOpenAI(model_name='gpt-4o', temperature=0)\n",
        "# Used for separating context docs with new lines\n",
        "def format_docs(docs):\n",
        "    return \"\\n\\n\".join(doc for doc in docs)\n",
        "# create QA RAG chain\n",
        "qa_rag_chain = (\n",
        "    {\n",
        "        \"context\": (itemgetter('context')\n",
        "                        |\n",
        "                    RunnableLambda(format_docs)),\n",
        "        \"question\": itemgetter('question')\n",
        "    }\n",
        "      |\n",
        "    prompt_template\n",
        "      |\n",
        "    chatgpt\n",
        "      |\n",
        "    StrOutputParser()\n",
        ")"
      ],
      "metadata": {
        "id": "Mei7Z4TRWIpy"
      },
      "execution_count": 195,
      "outputs": []
    },
    {
      "cell_type": "code",
      "source": [
        "query = \"What is smuggling and why do people engage in it?\"\n",
        "top3_docs = similarity_threshold_retriever.invoke(query)\n",
        "result = qa_rag_chain.invoke(\n",
        "    {\"context\": filtered_responses['content'], \"question\": query}\n",
        ")\n",
        "print(result)"
      ],
      "metadata": {
        "colab": {
          "base_uri": "https://localhost:8080/"
        },
        "id": "XWJGNPrRYWuC",
        "outputId": "a9ea3636-1415-4683-e75c-11168e1b89be"
      },
      "execution_count": 196,
      "outputs": [
        {
          "output_type": "stream",
          "name": "stdout",
          "text": [
            "Smuggling refers to the illegal transport of goods, objects, substances, or information across state, national, or international borders. People engage in smuggling for various reasons, primarily to avoid tariffs, taxes, or legal restrictions imposed by governments. By bypassing these legal and financial barriers, smugglers can often sell goods at a higher profit margin.\n",
            "\n",
            "There are different types of smuggling, each with its own motivations and methods:\n",
            "\n",
            "1. **Arms Trafficking**: This involves the illegal smuggling of weapons and ammunition. It is particularly prevalent in regions experiencing violent political conflict or civil war. The demand for weapons in such areas drives the smuggling activities, despite international efforts by organizations like Amnesty International and Human Rights Watch to address the issue.\n",
            "\n",
            "2. **Rum-running or Bootlegging**: This is the illegal transport of alcoholic beverages to evade taxation or prohibition laws. Historically, during the Prohibition era in the United States, rum-running involved smuggling alcohol over water, while bootlegging referred to smuggling over land. The motivation here was to supply alcohol to areas where it was banned, thus capitalizing on the high demand and potential for significant profit.\n",
            "\n",
            "Overall, smuggling is driven by the potential for financial gain, the desire to circumvent legal restrictions, and the demand for goods that are otherwise difficult or impossible to obtain legally.\n"
          ]
        }
      ]
    },
    {
      "cell_type": "code",
      "source": [
        "# LLM for question rewriting\n",
        "llm = ChatOpenAI(model=\"gpt-4o\", temperature=0)\n",
        "# Prompt template for rewriting\n",
        "SYS_PROMPT = \"\"\"Act as a question re-writer and perform the following task:\n",
        "                 - Convert the following input question to a better version that is optimized for web search.\n",
        "                 - When re-writing, look at the input question and try to reason about the underlying semantic intent / meaning.\n",
        "             \"\"\"\n",
        "re_write_prompt = ChatPromptTemplate.from_messages(\n",
        "    [\n",
        "        (\"system\", SYS_PROMPT),\n",
        "        (\"human\", \"\"\"Here is the initial question:\n",
        "                     {question}\n",
        "                     Formulate an improved question.\n",
        "                  \"\"\",\n",
        "        ),\n",
        "    ]\n",
        ")\n",
        "\n",
        "# Create rephraser chain\n",
        "question_rewriter = (re_write_prompt\n",
        "                        |\n",
        "                       llm\n",
        "                        |\n",
        "                     StrOutputParser())"
      ],
      "metadata": {
        "id": "Cb69YHmdYllN"
      },
      "execution_count": 197,
      "outputs": []
    },
    {
      "cell_type": "code",
      "source": [
        "query = \"who won the champions league in 2024?\"\n",
        "question_rewriter.invoke({\"question\": query})"
      ],
      "metadata": {
        "colab": {
          "base_uri": "https://localhost:8080/",
          "height": 35
        },
        "id": "2BRmz-PbYwgI",
        "outputId": "0760feeb-8787-44d3-a314-ca63706aa9cd"
      },
      "execution_count": null,
      "outputs": [
        {
          "output_type": "execute_result",
          "data": {
            "text/plain": [
              "'Who was the winner of the UEFA Champions League in 2024?'"
            ],
            "application/vnd.google.colaboratory.intrinsic+json": {
              "type": "string"
            }
          },
          "metadata": {},
          "execution_count": 22
        }
      ]
    },
    {
      "cell_type": "code",
      "source": [
        "from langchain_community.tools.tavily_search import TavilySearchResults\n",
        "tv_search = TavilySearchResults(max_results=3, search_depth='advanced',max_tokens=10000)"
      ],
      "metadata": {
        "id": "jDVnmjczYuiT"
      },
      "execution_count": 207,
      "outputs": []
    },
    {
      "cell_type": "code",
      "source": [
        "from typing import List\n",
        "from typing_extensions import TypedDict\n",
        "class GraphState(TypedDict):\n",
        "    # \"\"\"\n",
        "    # Represents the state of our graph.\n",
        "    # Attributes:\n",
        "    #     question: question\n",
        "    #     generation: LLM response generation\n",
        "    #     web_search_needed: flag of whether to add web search - yes or no\n",
        "    #     documents: list of context documents\n",
        "    # \"\"\"\n",
        "    question: str\n",
        "    generation: str\n",
        "    web_search_needed: str\n",
        "    documents: List[str]"
      ],
      "metadata": {
        "id": "i5tN0igcY9dj"
      },
      "execution_count": 276,
      "outputs": []
    },
    {
      "cell_type": "code",
      "source": [
        "def retrieve(state):\n",
        "    \"\"\"\n",
        "    Retrieve documents\n",
        "    Args:\n",
        "        state (dict): The current graph state\n",
        "    Returns:\n",
        "        state (dict): New key added to state, documents - that contains retrieved context documents\n",
        "    \"\"\"\n",
        "    print(\"---RETRIEVAL FROM VECTOR DB---\")\n",
        "    question = state[\"question\"]\n",
        "    # Retrieval\n",
        "    documents = similarity_threshold_retriever.invoke(question)\n",
        "    return {\"documents\": documents, \"question\": question}"
      ],
      "metadata": {
        "id": "dD5tTP2LZ_oZ"
      },
      "execution_count": 297,
      "outputs": []
    },
    {
      "cell_type": "code",
      "source": [
        "def grade_documents(state):\n",
        "    print (\"---- Inside grade_documents --------------------\")\n",
        "    # \"\"\"\n",
        "    # Determines whether the retrieved documents are relevant to the question\n",
        "    # by using an LLM Grader.\n",
        "    # If any document are not relevant to question or documents are empty - Web Search needs to be done\n",
        "    # If all documents are relevant to question - Web Search is not needed\n",
        "    # Helps filtering out irrelevant documents\n",
        "    # Args:\n",
        "    #     state (dict): The current graph state\n",
        "    # Returns:\n",
        "    #     state (dict): Updates documents key with only filtered relevant documents\n",
        "    #\"\"\"\n",
        "    print(\"---CHECK DOCUMENT RELEVANCE TO QUESTION---\")\n",
        "    question = state[\"question\"]\n",
        "    documents = state[\"documents\"]\n",
        "    # Score each doc\n",
        "    filtered_docs = []\n",
        "    web_search_needed = \"No\"\n",
        "    if documents:\n",
        "        for d in documents:\n",
        "            score = doc_grader.invoke(\n",
        "                {\"question\": question, \"document\": d.page_content}\n",
        "            )\n",
        "            grade = score.binary_score\n",
        "            if grade == \"yes\":\n",
        "                print(\"---GRADE: DOCUMENT RELEVANT---\")\n",
        "                filtered_docs.append(d.page_content)\n",
        "\n",
        "    elif len(filtered_docs)==0:\n",
        "        print(\"---NO DOCUMENTS RETRIEVED---\")\n",
        "        web_search_needed = \"Yes\"\n",
        "    return {\"documents\": filtered_docs, \"question\": question,\n",
        "            \"web_search_needed\": web_search_needed}"
      ],
      "metadata": {
        "id": "UdkFhO7cZC16"
      },
      "execution_count": 278,
      "outputs": []
    },
    {
      "cell_type": "code",
      "source": [
        "def rewrite_query(state):\n",
        "    # \"\"\"\n",
        "    # Rewrite the query to produce a better question.\n",
        "    # Args:\n",
        "    #     state (dict): The current graph state\n",
        "    # Returns:\n",
        "    #     state (dict): Updates question key with a re-phrased or re-written question\n",
        "    # \"\"\"\n",
        "    print(\"---REWRITE QUERY---\")\n",
        "    question = state[\"question\"]\n",
        "    documents = state[\"documents\"]\n",
        "    # Re-write question\n",
        "    better_question = question_rewriter.invoke({\"question\": question})\n",
        "    return {\"documents\": documents, \"question\": better_question}"
      ],
      "metadata": {
        "id": "kB_kJCfEZGtO"
      },
      "execution_count": 279,
      "outputs": []
    },
    {
      "cell_type": "code",
      "source": [
        "from langchain.schema import Document\n",
        "def web_search(state):\n",
        "    print(\"--- Inside Web Search ------------\")\n",
        "    # \"\"\"\n",
        "    # Web search based on the re-written question.\n",
        "    # Args:\n",
        "    #     state (dict): The current graph state\n",
        "    # Returns:\n",
        "    #     state (dict): Updates documents key with appended web results\n",
        "    # \"\"\"\n",
        "    print(\"---WEB SEARCH---\")\n",
        "    question = state[\"question\"]\n",
        "\n",
        "    documents = state[\"documents\"]\n",
        "\n",
        "    # Web search\n",
        "    docs = tv_search.invoke(question)\n",
        "    web_results = \"\\n\\n\".join([d[\"content\"] for d in docs])\n",
        "    # web_results = Document(page_content=web_results)\n",
        "    documents.append(web_results)\n",
        "\n",
        "    return {\"documents\": documents, \"question\": question}"
      ],
      "metadata": {
        "id": "KjEdoyl4ZTyP"
      },
      "execution_count": 298,
      "outputs": []
    },
    {
      "cell_type": "code",
      "source": [
        "def gen_resp(state):\n",
        "    print(\"--- Inside Generate Answer ------------\")\n",
        "    # \"\"\"\n",
        "    # Generate answer from context document using LLM\n",
        "    # Args:\n",
        "    #     state (dict): The current graph state\n",
        "    # Returns:\n",
        "    #     state (dict): New key added to state, generation, that contains LLM generation\n",
        "    # \"\"\"\n",
        "    # print(\"---GENERATE ANSWER---\")\n",
        "    question = state[\"question\"]\n",
        "    documents = state[\"documents\"]\n",
        "    # RAG generation\n",
        "    generation = qa_rag_chain.invoke({\"context\": documents, \"question\": question})\n",
        "    return {\"documents\": documents, \"question\": question,\n",
        "            \"generation\": generation}"
      ],
      "metadata": {
        "id": "NxSytwMBZXN1"
      },
      "execution_count": 302,
      "outputs": []
    },
    {
      "cell_type": "code",
      "source": [
        "def decide_context_source(state):\n",
        "    print(\"--- Inside Decide to generate ------------\")\n",
        "    # \"\"\"\n",
        "    # Determines whether to generate an answer, or re-generate a question.\n",
        "    # Args:\n",
        "    #     state (dict): The current graph state\n",
        "    # Returns:\n",
        "    #     str: Binary decision for next node to call\n",
        "    # \"\"\"\n",
        "    # print(\"---ASSESS GRADED DOCUMENTS---\")\n",
        "    web_search_needed = state[\"web_search_needed\"]\n",
        "    print(f'Web Search Needed?: {web_search_needed}')\n",
        "    if web_search_needed == \"Yes\":\n",
        "        # All documents have been filtered check_relevance\n",
        "        # We will re-generate a new query\n",
        "        return \"web_search\"\n",
        "        print(\"web_search\")\n",
        "    else:\n",
        "        # We have relevant documents, so generate answer\n",
        "        print(\"---DECISION: GENERATE RESPONSE---\")\n",
        "        return \"gen_resp\""
      ],
      "metadata": {
        "id": "UZwE49IcZabo"
      },
      "execution_count": 304,
      "outputs": []
    },
    {
      "cell_type": "code",
      "source": [
        "from langgraph.graph import END, StateGraph\n",
        "agentic_rag = StateGraph(GraphState)\n",
        "# Define the nodes\n",
        "agentic_rag.add_node(\"retrieve\", retrieve)  # retrieve\n",
        "agentic_rag.add_node(\"grade_documents\", grade_documents)  # grade documents\n",
        "agentic_rag.add_node(\"web_search\", web_search)  # web search\n",
        "agentic_rag.add_node(\"gen_resp\", gen_resp)  # generate answer\n",
        "# Build graph\n",
        "agentic_rag.set_entry_point(\"retrieve\")\n",
        "agentic_rag.add_edge(\"retrieve\", \"grade_documents\")\n",
        "agentic_rag.add_conditional_edges(\n",
        "    \"grade_documents\",\n",
        "    decide_context_source,\n",
        ")\n",
        "\n",
        "agentic_rag.add_edge(\"web_search\", \"gen_resp\")\n",
        "agentic_rag.add_edge(\"gen_resp\", END)\n",
        "# Compile\n",
        "agentic_rag = agentic_rag.compile()"
      ],
      "metadata": {
        "id": "7ovCKboWZdUc"
      },
      "execution_count": 306,
      "outputs": []
    },
    {
      "cell_type": "code",
      "source": [
        "query = \"What is smuggling and what motivates people to engage in smuggling?\"\n",
        "response = agentic_rag.invoke({\"question\": query})\n",
        "print(response['generation'])\n"
      ],
      "metadata": {
        "colab": {
          "base_uri": "https://localhost:8080/"
        },
        "id": "PgOswM1AZhxh",
        "outputId": "825a430c-6f3f-4c7e-b3c0-ff28315c6dfc"
      },
      "execution_count": 308,
      "outputs": [
        {
          "output_type": "stream",
          "name": "stdout",
          "text": [
            "---RETRIEVAL FROM VECTOR DB---\n",
            "---- Inside grade_documents --------------------\n",
            "---CHECK DOCUMENT RELEVANCE TO QUESTION---\n",
            "---GRADE: DOCUMENT RELEVANT---\n",
            "---GRADE: DOCUMENT RELEVANT---\n",
            "---GRADE: DOCUMENT RELEVANT---\n",
            "--- Inside Decide to generate ------------\n",
            "Web Search Needed?: No\n",
            "---DECISION: GENERATE RESPONSE---\n",
            "--- Inside Generate Answer ------------\n",
            "Smuggling refers to the illegal transportation of goods, objects, substances, or information across state, national, or international borders. This activity is often undertaken to avoid tariffs, taxes, or legal restrictions imposed by governments. Smuggling can involve a wide range of items, including weapons, alcohol, drugs, and even information.\n",
            "\n",
            "There are several motivations for people to engage in smuggling:\n",
            "\n",
            "1. **Economic Gain**: The primary motivation for smuggling is often financial profit. By evading taxes and tariffs, smugglers can sell goods at a lower price or pocket the difference, leading to significant profits. For example, during the Prohibition era in the United States, rum-runners and bootleggers smuggled alcohol to evade prohibition laws and taxes, making substantial profits by selling these goods illegally.\n",
            "\n",
            "2. **Avoidance of Legal Restrictions**: Smugglers may transport goods that are illegal or heavily restricted in certain areas. For instance, arms trafficking involves the illegal smuggling of weapons and ammunition, often to regions experiencing political conflict or civil war, where such items are in high demand but restricted.\n",
            "\n",
            "3. **Supply and Demand**: In some cases, smuggling is driven by the demand for certain goods that are not readily available or are illegal in a particular region. This demand creates a lucrative market for smugglers who can supply these goods.\n",
            "\n",
            "4. **Political or Ideological Reasons**: Some individuals or groups may engage in smuggling to support a political cause or ideology, such as smuggling arms to support a rebel group in a conflict zone.\n",
            "\n",
            "Overall, smuggling is a complex issue influenced by economic, legal, and social factors, and it poses significant challenges to law enforcement and regulatory agencies worldwide.\n"
          ]
        }
      ]
    },
    {
      "cell_type": "code",
      "source": [
        "response['generation']"
      ],
      "metadata": {
        "colab": {
          "base_uri": "https://localhost:8080/",
          "height": 52
        },
        "id": "5Mkt9eNw61Cb",
        "outputId": "b4013daf-d0d8-4aef-f76d-ceb20291f745"
      },
      "execution_count": null,
      "outputs": [
        {
          "output_type": "execute_result",
          "data": {
            "text/plain": [
              "'The capital city of India is New Delhi. It is situated in the northern part of the country and serves as the political, cultural, and administrative center of India. New Delhi was officially declared the capital of India in 1911 during British rule, replacing Kolkata, and continued to be the capital after India gained independence on August 15, 1947.'"
            ],
            "application/vnd.google.colaboratory.intrinsic+json": {
              "type": "string"
            }
          },
          "metadata": {},
          "execution_count": 35
        }
      ]
    },
    {
      "cell_type": "code",
      "source": [
        "query = \"who won the t20 cricket worldcup in 2024?\"\n",
        "response = agentic_rag.invoke({\"question\": query})\n",
        "print(response['generation'])"
      ],
      "metadata": {
        "colab": {
          "base_uri": "https://localhost:8080/"
        },
        "id": "Bb1-ZfbiaNN0",
        "outputId": "0fc5d424-7438-45d5-8d82-93a25ba84f5a"
      },
      "execution_count": 274,
      "outputs": [
        {
          "output_type": "stream",
          "name": "stderr",
          "text": [
            "WARNING:langchain_core.vectorstores.base:No relevant docs were retrieved using the relevance score threshold 0.3\n"
          ]
        },
        {
          "output_type": "stream",
          "name": "stdout",
          "text": [
            "---- Inside grade_documents --------------------\n",
            "---CHECK DOCUMENT RELEVANCE TO QUESTION---\n",
            "---NO DOCUMENTS RETRIEVED---\n",
            "--- Inside Decide to generate ------------\n",
            "Web Search Needed?: Yes\n",
            "--- Inside Web Search ------------\n",
            "---WEB SEARCH---\n",
            "--- Inside Generate Answer ------------\n",
            "India won the Men's T20 World Cup in 2024. They defeated South Africa by seven runs in the final held in Barbados to claim their second title. South Africa was denied their first World Cup title after this heart-breaking defeat at Kensington Oval.\n"
          ]
        }
      ]
    },
    {
      "cell_type": "code",
      "source": [
        "response"
      ],
      "metadata": {
        "colab": {
          "base_uri": "https://localhost:8080/"
        },
        "id": "w6SkVqi37FNW",
        "outputId": "90ce6359-49d0-471e-b173-d6b46affeb87"
      },
      "execution_count": null,
      "outputs": [
        {
          "output_type": "execute_result",
          "data": {
            "text/plain": [
              "{'question': 'Who was the winner of the UEFA Champions League in 2024?',\n",
              " 'generation': 'The winner of the UEFA Champions League in 2024 was Real Madrid. They defeated Borussia Dortmund in the final, which took place at Wembley Stadium in London, England, on June 1, 2024. Goals from Dani Carvajal and Vinicius Junior secured the victory for Real Madrid.',\n",
              " 'web_search_needed': 'Yes',\n",
              " 'documents': [Document(metadata={}, page_content='2024 UEFA Champions League final - Simple English Wikipedia, the free encyclopedia 2024 UEFA Champions League final 2024 UEFA Champions League final The 2024 UEFA Champions League final was the last match of the 2023–24 UEFA Champions League, which is a big football competition in Europe. This final happened at Wembley Stadium in London, England, on June 1, 2024.[5][6] The team that won, Real Madrid, gets to play against the winners of the 2023–24 UEFA Europa League, Atalanta, in the 2024 UEFA Super Cup. Match ↑ \"Official Champions League final PlayStation Player of the Match: Dani Carvajal\". ↑ Cite error: The named reference report 1 June was used but no text was provided for refs named (see the help page). Retrieved from \"https://simple.wikipedia.org/w/index.php?title=2024_UEFA_Champions_League_final&oldid=9641153\" UEFA Champions League finals\\n\\nReal Madrid defeated Borussia Dortmund at Wembley Stadium to win the 2024 Champions League title. ... UEFA Champions League. ... he was a two-time winner with AC Milan. He also lifted the Spanish\\n\\nReal Madrid toiled for the first hour of the 2024 UEFA Champions League final against Borussia Dortmund before goals from Dani Carvajal and Vinicius Junior sealed victory.')]}"
            ]
          },
          "metadata": {},
          "execution_count": 37
        }
      ]
    },
    {
      "cell_type": "code",
      "source": [
        "from IPython.display import Image, display, Markdown\n",
        "display(Markdown(response['generation']))"
      ],
      "metadata": {
        "colab": {
          "base_uri": "https://localhost:8080/",
          "height": 64
        },
        "id": "Jq6CbXLGaSrX",
        "outputId": "57929316-0366-4e78-d893-d8b4fdb093a9"
      },
      "execution_count": null,
      "outputs": [
        {
          "output_type": "display_data",
          "data": {
            "text/plain": [
              "<IPython.core.display.Markdown object>"
            ],
            "text/markdown": "The winners of the UEFA Champions League in 2024 were Borussia Dortmund, who defeated their opponents 2-0 in the final held at Wembley Stadium, London, England, on June 1, 2024."
          },
          "metadata": {}
        }
      ]
    },
    {
      "cell_type": "code",
      "source": [],
      "metadata": {
        "id": "kObSGhsYamb9"
      },
      "execution_count": null,
      "outputs": []
    }
  ]
}